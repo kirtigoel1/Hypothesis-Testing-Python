{
 "cells": [
  {
   "cell_type": "code",
   "execution_count": 2,
   "id": "039b5faf-3d38-42e0-abe9-e8db0a6d953e",
   "metadata": {},
   "outputs": [],
   "source": [
    "import pandas as pd\n",
    "import numpy as np\n",
    "import scipy.stats as stats\n",
    "import matplotlib.pyplot as plt\n",
    "import seaborn as sns\n",
    "\n",
    "%matplotlib inline"
   ]
  },
  {
   "cell_type": "markdown",
   "id": "fd8987b3-1cab-474d-ae3c-32d4d9e1031f",
   "metadata": {},
   "source": [
    "## BUSINESS PROBLEM-1\n",
    "BACKGROUND: The Lending Club is a peer-to-peer lending site where members make loans to\n",
    "each other. The site makes anonymized data on loans and borrowers publicly available.\n",
    "BUSINESS PROBLEM:\n",
    "Using lending club loans data, the team would like to test below hypothesis on how different\n",
    "factors effecing each other (Hint: You may leverage hypothesis testing using statistical tests)\n",
    "\n",
    "a. Intrest rate is varied for different loan amounts (Less intrest charged for high loan\n",
    "amounts)\n",
    "\n",
    "b. Loan length is directly effecting intrest rate.\n",
    "\n",
    "c. Inrest rate varies for different purpose of loans\n",
    "\n",
    "d. There is relationship between FICO scores and Home Ownership. It means that, People\n",
    "with owning home will have high FICO scores.\n"
   ]
  },
  {
   "cell_type": "code",
   "execution_count": 7,
   "id": "6b85c039-761c-4af1-87ed-cdb7a2d116e4",
   "metadata": {},
   "outputs": [],
   "source": [
    "loansdata = pd.read_csv(r\"C:\\Users\\kirti\\OneDrive\\Desktop\\Python Excel files\\Basic Statistics - Hypothesis Testing\\4. Basic Statistics - Hypothesis Testing\\LoansData.csv\")"
   ]
  },
  {
   "cell_type": "code",
   "execution_count": 9,
   "id": "a24de31a-6fee-43b3-9c2d-00e82c887b6d",
   "metadata": {},
   "outputs": [
    {
     "data": {
      "text/html": [
       "<div>\n",
       "<style scoped>\n",
       "    .dataframe tbody tr th:only-of-type {\n",
       "        vertical-align: middle;\n",
       "    }\n",
       "\n",
       "    .dataframe tbody tr th {\n",
       "        vertical-align: top;\n",
       "    }\n",
       "\n",
       "    .dataframe thead th {\n",
       "        text-align: right;\n",
       "    }\n",
       "</style>\n",
       "<table border=\"1\" class=\"dataframe\">\n",
       "  <thead>\n",
       "    <tr style=\"text-align: right;\">\n",
       "      <th></th>\n",
       "      <th>Amount.Requested</th>\n",
       "      <th>Amount.Funded.By.Investors</th>\n",
       "      <th>Interest.Rate</th>\n",
       "      <th>Loan.Length</th>\n",
       "      <th>Loan.Purpose</th>\n",
       "      <th>Debt.To.Income.Ratio</th>\n",
       "      <th>State</th>\n",
       "      <th>Home.Ownership</th>\n",
       "      <th>Monthly.Income</th>\n",
       "      <th>FICO.Range</th>\n",
       "      <th>Open.CREDIT.Lines</th>\n",
       "      <th>Revolving.CREDIT.Balance</th>\n",
       "      <th>Inquiries.in.the.Last.6.Months</th>\n",
       "      <th>Employment.Length</th>\n",
       "    </tr>\n",
       "  </thead>\n",
       "  <tbody>\n",
       "    <tr>\n",
       "      <th>0</th>\n",
       "      <td>20000.0</td>\n",
       "      <td>20000.00</td>\n",
       "      <td>8.90%</td>\n",
       "      <td>36 months</td>\n",
       "      <td>debt_consolidation</td>\n",
       "      <td>14.90%</td>\n",
       "      <td>SC</td>\n",
       "      <td>MORTGAGE</td>\n",
       "      <td>6541.67</td>\n",
       "      <td>735-739</td>\n",
       "      <td>14.0</td>\n",
       "      <td>14272.0</td>\n",
       "      <td>2.0</td>\n",
       "      <td>&lt; 1 year</td>\n",
       "    </tr>\n",
       "    <tr>\n",
       "      <th>1</th>\n",
       "      <td>19200.0</td>\n",
       "      <td>19200.00</td>\n",
       "      <td>12.12%</td>\n",
       "      <td>36 months</td>\n",
       "      <td>debt_consolidation</td>\n",
       "      <td>28.36%</td>\n",
       "      <td>TX</td>\n",
       "      <td>MORTGAGE</td>\n",
       "      <td>4583.33</td>\n",
       "      <td>715-719</td>\n",
       "      <td>12.0</td>\n",
       "      <td>11140.0</td>\n",
       "      <td>1.0</td>\n",
       "      <td>2 years</td>\n",
       "    </tr>\n",
       "    <tr>\n",
       "      <th>2</th>\n",
       "      <td>35000.0</td>\n",
       "      <td>35000.00</td>\n",
       "      <td>21.98%</td>\n",
       "      <td>60 months</td>\n",
       "      <td>debt_consolidation</td>\n",
       "      <td>23.81%</td>\n",
       "      <td>CA</td>\n",
       "      <td>MORTGAGE</td>\n",
       "      <td>11500.00</td>\n",
       "      <td>690-694</td>\n",
       "      <td>14.0</td>\n",
       "      <td>21977.0</td>\n",
       "      <td>1.0</td>\n",
       "      <td>2 years</td>\n",
       "    </tr>\n",
       "    <tr>\n",
       "      <th>3</th>\n",
       "      <td>10000.0</td>\n",
       "      <td>9975.00</td>\n",
       "      <td>9.99%</td>\n",
       "      <td>36 months</td>\n",
       "      <td>debt_consolidation</td>\n",
       "      <td>14.30%</td>\n",
       "      <td>KS</td>\n",
       "      <td>MORTGAGE</td>\n",
       "      <td>3833.33</td>\n",
       "      <td>695-699</td>\n",
       "      <td>10.0</td>\n",
       "      <td>9346.0</td>\n",
       "      <td>0.0</td>\n",
       "      <td>5 years</td>\n",
       "    </tr>\n",
       "    <tr>\n",
       "      <th>4</th>\n",
       "      <td>12000.0</td>\n",
       "      <td>12000.00</td>\n",
       "      <td>11.71%</td>\n",
       "      <td>36 months</td>\n",
       "      <td>credit_card</td>\n",
       "      <td>18.78%</td>\n",
       "      <td>NJ</td>\n",
       "      <td>RENT</td>\n",
       "      <td>3195.00</td>\n",
       "      <td>695-699</td>\n",
       "      <td>11.0</td>\n",
       "      <td>14469.0</td>\n",
       "      <td>0.0</td>\n",
       "      <td>9 years</td>\n",
       "    </tr>\n",
       "    <tr>\n",
       "      <th>...</th>\n",
       "      <td>...</td>\n",
       "      <td>...</td>\n",
       "      <td>...</td>\n",
       "      <td>...</td>\n",
       "      <td>...</td>\n",
       "      <td>...</td>\n",
       "      <td>...</td>\n",
       "      <td>...</td>\n",
       "      <td>...</td>\n",
       "      <td>...</td>\n",
       "      <td>...</td>\n",
       "      <td>...</td>\n",
       "      <td>...</td>\n",
       "      <td>...</td>\n",
       "    </tr>\n",
       "    <tr>\n",
       "      <th>2495</th>\n",
       "      <td>30000.0</td>\n",
       "      <td>29950.00</td>\n",
       "      <td>16.77%</td>\n",
       "      <td>60 months</td>\n",
       "      <td>debt_consolidation</td>\n",
       "      <td>19.23%</td>\n",
       "      <td>NY</td>\n",
       "      <td>MORTGAGE</td>\n",
       "      <td>9250.00</td>\n",
       "      <td>705-709</td>\n",
       "      <td>15.0</td>\n",
       "      <td>45880.0</td>\n",
       "      <td>1.0</td>\n",
       "      <td>8 years</td>\n",
       "    </tr>\n",
       "    <tr>\n",
       "      <th>2496</th>\n",
       "      <td>16000.0</td>\n",
       "      <td>16000.00</td>\n",
       "      <td>14.09%</td>\n",
       "      <td>60 months</td>\n",
       "      <td>home_improvement</td>\n",
       "      <td>21.54%</td>\n",
       "      <td>MD</td>\n",
       "      <td>OWN</td>\n",
       "      <td>8903.25</td>\n",
       "      <td>740-744</td>\n",
       "      <td>18.0</td>\n",
       "      <td>18898.0</td>\n",
       "      <td>1.0</td>\n",
       "      <td>10+ years</td>\n",
       "    </tr>\n",
       "    <tr>\n",
       "      <th>2497</th>\n",
       "      <td>10000.0</td>\n",
       "      <td>10000.00</td>\n",
       "      <td>13.99%</td>\n",
       "      <td>36 months</td>\n",
       "      <td>debt_consolidation</td>\n",
       "      <td>4.89%</td>\n",
       "      <td>PA</td>\n",
       "      <td>MORTGAGE</td>\n",
       "      <td>2166.67</td>\n",
       "      <td>680-684</td>\n",
       "      <td>4.0</td>\n",
       "      <td>4544.0</td>\n",
       "      <td>0.0</td>\n",
       "      <td>10+ years</td>\n",
       "    </tr>\n",
       "    <tr>\n",
       "      <th>2498</th>\n",
       "      <td>6000.0</td>\n",
       "      <td>6000.00</td>\n",
       "      <td>12.42%</td>\n",
       "      <td>36 months</td>\n",
       "      <td>major_purchase</td>\n",
       "      <td>16.66%</td>\n",
       "      <td>NJ</td>\n",
       "      <td>RENT</td>\n",
       "      <td>3500.00</td>\n",
       "      <td>675-679</td>\n",
       "      <td>8.0</td>\n",
       "      <td>7753.0</td>\n",
       "      <td>0.0</td>\n",
       "      <td>5 years</td>\n",
       "    </tr>\n",
       "    <tr>\n",
       "      <th>2499</th>\n",
       "      <td>9000.0</td>\n",
       "      <td>5242.75</td>\n",
       "      <td>13.79%</td>\n",
       "      <td>36 months</td>\n",
       "      <td>debt_consolidation</td>\n",
       "      <td>6.76%</td>\n",
       "      <td>NY</td>\n",
       "      <td>RENT</td>\n",
       "      <td>3875.00</td>\n",
       "      <td>670-674</td>\n",
       "      <td>7.0</td>\n",
       "      <td>7589.0</td>\n",
       "      <td>0.0</td>\n",
       "      <td>10+ years</td>\n",
       "    </tr>\n",
       "  </tbody>\n",
       "</table>\n",
       "<p>2500 rows × 14 columns</p>\n",
       "</div>"
      ],
      "text/plain": [
       "      Amount.Requested  Amount.Funded.By.Investors Interest.Rate Loan.Length  \\\n",
       "0              20000.0                    20000.00         8.90%   36 months   \n",
       "1              19200.0                    19200.00        12.12%   36 months   \n",
       "2              35000.0                    35000.00        21.98%   60 months   \n",
       "3              10000.0                     9975.00         9.99%   36 months   \n",
       "4              12000.0                    12000.00        11.71%   36 months   \n",
       "...                ...                         ...           ...         ...   \n",
       "2495           30000.0                    29950.00        16.77%   60 months   \n",
       "2496           16000.0                    16000.00        14.09%   60 months   \n",
       "2497           10000.0                    10000.00        13.99%   36 months   \n",
       "2498            6000.0                     6000.00        12.42%   36 months   \n",
       "2499            9000.0                     5242.75        13.79%   36 months   \n",
       "\n",
       "            Loan.Purpose Debt.To.Income.Ratio State Home.Ownership  \\\n",
       "0     debt_consolidation               14.90%    SC       MORTGAGE   \n",
       "1     debt_consolidation               28.36%    TX       MORTGAGE   \n",
       "2     debt_consolidation               23.81%    CA       MORTGAGE   \n",
       "3     debt_consolidation               14.30%    KS       MORTGAGE   \n",
       "4            credit_card               18.78%    NJ           RENT   \n",
       "...                  ...                  ...   ...            ...   \n",
       "2495  debt_consolidation               19.23%    NY       MORTGAGE   \n",
       "2496    home_improvement               21.54%    MD            OWN   \n",
       "2497  debt_consolidation                4.89%    PA       MORTGAGE   \n",
       "2498      major_purchase               16.66%    NJ           RENT   \n",
       "2499  debt_consolidation                6.76%    NY           RENT   \n",
       "\n",
       "      Monthly.Income FICO.Range  Open.CREDIT.Lines  Revolving.CREDIT.Balance  \\\n",
       "0            6541.67    735-739               14.0                   14272.0   \n",
       "1            4583.33    715-719               12.0                   11140.0   \n",
       "2           11500.00    690-694               14.0                   21977.0   \n",
       "3            3833.33    695-699               10.0                    9346.0   \n",
       "4            3195.00    695-699               11.0                   14469.0   \n",
       "...              ...        ...                ...                       ...   \n",
       "2495         9250.00    705-709               15.0                   45880.0   \n",
       "2496         8903.25    740-744               18.0                   18898.0   \n",
       "2497         2166.67    680-684                4.0                    4544.0   \n",
       "2498         3500.00    675-679                8.0                    7753.0   \n",
       "2499         3875.00    670-674                7.0                    7589.0   \n",
       "\n",
       "      Inquiries.in.the.Last.6.Months Employment.Length  \n",
       "0                                2.0          < 1 year  \n",
       "1                                1.0           2 years  \n",
       "2                                1.0           2 years  \n",
       "3                                0.0           5 years  \n",
       "4                                0.0           9 years  \n",
       "...                              ...               ...  \n",
       "2495                             1.0           8 years  \n",
       "2496                             1.0         10+ years  \n",
       "2497                             0.0         10+ years  \n",
       "2498                             0.0           5 years  \n",
       "2499                             0.0         10+ years  \n",
       "\n",
       "[2500 rows x 14 columns]"
      ]
     },
     "execution_count": 9,
     "metadata": {},
     "output_type": "execute_result"
    }
   ],
   "source": [
    "loansdata"
   ]
  },
  {
   "cell_type": "code",
   "execution_count": 10,
   "id": "75d59dca-0544-4f97-b0a8-c0ce62850274",
   "metadata": {},
   "outputs": [
    {
     "name": "stdout",
     "output_type": "stream",
     "text": [
      "<class 'pandas.core.frame.DataFrame'>\n",
      "RangeIndex: 2500 entries, 0 to 2499\n",
      "Data columns (total 14 columns):\n",
      " #   Column                          Non-Null Count  Dtype  \n",
      "---  ------                          --------------  -----  \n",
      " 0   Amount.Requested                2499 non-null   float64\n",
      " 1   Amount.Funded.By.Investors      2499 non-null   float64\n",
      " 2   Interest.Rate                   2498 non-null   object \n",
      " 3   Loan.Length                     2500 non-null   object \n",
      " 4   Loan.Purpose                    2500 non-null   object \n",
      " 5   Debt.To.Income.Ratio            2499 non-null   object \n",
      " 6   State                           2500 non-null   object \n",
      " 7   Home.Ownership                  2499 non-null   object \n",
      " 8   Monthly.Income                  2499 non-null   float64\n",
      " 9   FICO.Range                      2498 non-null   object \n",
      " 10  Open.CREDIT.Lines               2497 non-null   float64\n",
      " 11  Revolving.CREDIT.Balance        2497 non-null   float64\n",
      " 12  Inquiries.in.the.Last.6.Months  2497 non-null   float64\n",
      " 13  Employment.Length               2423 non-null   object \n",
      "dtypes: float64(6), object(8)\n",
      "memory usage: 273.6+ KB\n"
     ]
    }
   ],
   "source": [
    "loansdata.info()"
   ]
  },
  {
   "cell_type": "code",
   "execution_count": 11,
   "id": "ae05366b-39bb-4c0c-8ef2-71e4b41de846",
   "metadata": {},
   "outputs": [
    {
     "data": {
      "text/plain": [
       "Amount.Requested                   1\n",
       "Amount.Funded.By.Investors         1\n",
       "Interest.Rate                      2\n",
       "Loan.Length                        0\n",
       "Loan.Purpose                       0\n",
       "Debt.To.Income.Ratio               1\n",
       "State                              0\n",
       "Home.Ownership                     1\n",
       "Monthly.Income                     1\n",
       "FICO.Range                         2\n",
       "Open.CREDIT.Lines                  3\n",
       "Revolving.CREDIT.Balance           3\n",
       "Inquiries.in.the.Last.6.Months     3\n",
       "Employment.Length                 77\n",
       "dtype: int64"
      ]
     },
     "execution_count": 11,
     "metadata": {},
     "output_type": "execute_result"
    }
   ],
   "source": [
    "loansdata.isna().sum()"
   ]
  },
  {
   "cell_type": "code",
   "execution_count": 12,
   "id": "41da27ca-9dd5-408b-97bd-c317242c838f",
   "metadata": {},
   "outputs": [],
   "source": [
    "categ_col = ['Interest.Rate','Loan.Length', 'Loan.Purpose', 'Debt.To.Income.Ratio', 'State','Home.Ownership',\n",
    "                   'FICO.Range', 'Open.CREDIT.Lines','Inquiries.in.the.Last.6.Months', 'Employment.Length' ]\n",
    "continuous_col = ['Amount.Requested', 'Amount.Funded.By.Investors', 'Monthly.Income','Revolving.CREDIT.Balance']"
   ]
  },
  {
   "cell_type": "code",
   "execution_count": 19,
   "id": "4ff93b28-9933-40de-99e7-760f07a64e86",
   "metadata": {},
   "outputs": [
    {
     "data": {
      "text/html": [
       "<div>\n",
       "<style scoped>\n",
       "    .dataframe tbody tr th:only-of-type {\n",
       "        vertical-align: middle;\n",
       "    }\n",
       "\n",
       "    .dataframe tbody tr th {\n",
       "        vertical-align: top;\n",
       "    }\n",
       "\n",
       "    .dataframe thead th {\n",
       "        text-align: right;\n",
       "    }\n",
       "</style>\n",
       "<table border=\"1\" class=\"dataframe\">\n",
       "  <thead>\n",
       "    <tr style=\"text-align: right;\">\n",
       "      <th></th>\n",
       "      <th>Amount.Requested</th>\n",
       "      <th>Amount.Funded.By.Investors</th>\n",
       "      <th>Interest.Rate</th>\n",
       "      <th>Loan.Length</th>\n",
       "      <th>Loan.Purpose</th>\n",
       "      <th>Debt.To.Income.Ratio</th>\n",
       "      <th>State</th>\n",
       "      <th>Home.Ownership</th>\n",
       "      <th>Monthly.Income</th>\n",
       "      <th>FICO.Range</th>\n",
       "      <th>Open.CREDIT.Lines</th>\n",
       "      <th>Revolving.CREDIT.Balance</th>\n",
       "      <th>Inquiries.in.the.Last.6.Months</th>\n",
       "      <th>Employment.Length</th>\n",
       "    </tr>\n",
       "  </thead>\n",
       "  <tbody>\n",
       "    <tr>\n",
       "      <th>0</th>\n",
       "      <td>20000.0</td>\n",
       "      <td>20000.0</td>\n",
       "      <td>8.90%</td>\n",
       "      <td>36 months</td>\n",
       "      <td>debt_consolidation</td>\n",
       "      <td>14.90%</td>\n",
       "      <td>SC</td>\n",
       "      <td>MORTGAGE</td>\n",
       "      <td>6541.67</td>\n",
       "      <td>735-739</td>\n",
       "      <td>14.0</td>\n",
       "      <td>14272.0</td>\n",
       "      <td>2.0</td>\n",
       "      <td>&lt; 1 year</td>\n",
       "    </tr>\n",
       "    <tr>\n",
       "      <th>1</th>\n",
       "      <td>19200.0</td>\n",
       "      <td>19200.0</td>\n",
       "      <td>12.12%</td>\n",
       "      <td>36 months</td>\n",
       "      <td>debt_consolidation</td>\n",
       "      <td>28.36%</td>\n",
       "      <td>TX</td>\n",
       "      <td>MORTGAGE</td>\n",
       "      <td>4583.33</td>\n",
       "      <td>715-719</td>\n",
       "      <td>12.0</td>\n",
       "      <td>11140.0</td>\n",
       "      <td>1.0</td>\n",
       "      <td>2 years</td>\n",
       "    </tr>\n",
       "    <tr>\n",
       "      <th>2</th>\n",
       "      <td>35000.0</td>\n",
       "      <td>35000.0</td>\n",
       "      <td>21.98%</td>\n",
       "      <td>60 months</td>\n",
       "      <td>debt_consolidation</td>\n",
       "      <td>23.81%</td>\n",
       "      <td>CA</td>\n",
       "      <td>MORTGAGE</td>\n",
       "      <td>11500.00</td>\n",
       "      <td>690-694</td>\n",
       "      <td>14.0</td>\n",
       "      <td>21977.0</td>\n",
       "      <td>1.0</td>\n",
       "      <td>2 years</td>\n",
       "    </tr>\n",
       "    <tr>\n",
       "      <th>3</th>\n",
       "      <td>10000.0</td>\n",
       "      <td>9975.0</td>\n",
       "      <td>9.99%</td>\n",
       "      <td>36 months</td>\n",
       "      <td>debt_consolidation</td>\n",
       "      <td>14.30%</td>\n",
       "      <td>KS</td>\n",
       "      <td>MORTGAGE</td>\n",
       "      <td>3833.33</td>\n",
       "      <td>695-699</td>\n",
       "      <td>10.0</td>\n",
       "      <td>9346.0</td>\n",
       "      <td>0.0</td>\n",
       "      <td>5 years</td>\n",
       "    </tr>\n",
       "    <tr>\n",
       "      <th>4</th>\n",
       "      <td>12000.0</td>\n",
       "      <td>12000.0</td>\n",
       "      <td>11.71%</td>\n",
       "      <td>36 months</td>\n",
       "      <td>credit_card</td>\n",
       "      <td>18.78%</td>\n",
       "      <td>NJ</td>\n",
       "      <td>RENT</td>\n",
       "      <td>3195.00</td>\n",
       "      <td>695-699</td>\n",
       "      <td>11.0</td>\n",
       "      <td>14469.0</td>\n",
       "      <td>0.0</td>\n",
       "      <td>9 years</td>\n",
       "    </tr>\n",
       "  </tbody>\n",
       "</table>\n",
       "</div>"
      ],
      "text/plain": [
       "   Amount.Requested  Amount.Funded.By.Investors Interest.Rate Loan.Length  \\\n",
       "0           20000.0                     20000.0         8.90%   36 months   \n",
       "1           19200.0                     19200.0        12.12%   36 months   \n",
       "2           35000.0                     35000.0        21.98%   60 months   \n",
       "3           10000.0                      9975.0         9.99%   36 months   \n",
       "4           12000.0                     12000.0        11.71%   36 months   \n",
       "\n",
       "         Loan.Purpose Debt.To.Income.Ratio State Home.Ownership  \\\n",
       "0  debt_consolidation               14.90%    SC       MORTGAGE   \n",
       "1  debt_consolidation               28.36%    TX       MORTGAGE   \n",
       "2  debt_consolidation               23.81%    CA       MORTGAGE   \n",
       "3  debt_consolidation               14.30%    KS       MORTGAGE   \n",
       "4         credit_card               18.78%    NJ           RENT   \n",
       "\n",
       "   Monthly.Income FICO.Range  Open.CREDIT.Lines  Revolving.CREDIT.Balance  \\\n",
       "0         6541.67    735-739               14.0                   14272.0   \n",
       "1         4583.33    715-719               12.0                   11140.0   \n",
       "2        11500.00    690-694               14.0                   21977.0   \n",
       "3         3833.33    695-699               10.0                    9346.0   \n",
       "4         3195.00    695-699               11.0                   14469.0   \n",
       "\n",
       "   Inquiries.in.the.Last.6.Months Employment.Length  \n",
       "0                             2.0          < 1 year  \n",
       "1                             1.0           2 years  \n",
       "2                             1.0           2 years  \n",
       "3                             0.0           5 years  \n",
       "4                             0.0           9 years  "
      ]
     },
     "execution_count": 19,
     "metadata": {},
     "output_type": "execute_result"
    }
   ],
   "source": [
    "for col in categ_col:\n",
    "    loansdata[col] = loansdata[col].fillna(loansdata[col].mode()[0])\n",
    "loansdata[continuous_col] = loansdata[continuous_col].fillna(loansdata[continuous_col].mean())\n",
    "loansdata.head()"
   ]
  },
  {
   "cell_type": "code",
   "execution_count": 20,
   "id": "79831a18-3f98-4906-8015-523afc7a43cf",
   "metadata": {},
   "outputs": [
    {
     "data": {
      "text/plain": [
       "Amount.Requested                  0\n",
       "Amount.Funded.By.Investors        0\n",
       "Interest.Rate                     0\n",
       "Loan.Length                       0\n",
       "Loan.Purpose                      0\n",
       "Debt.To.Income.Ratio              0\n",
       "State                             0\n",
       "Home.Ownership                    0\n",
       "Monthly.Income                    0\n",
       "FICO.Range                        0\n",
       "Open.CREDIT.Lines                 0\n",
       "Revolving.CREDIT.Balance          0\n",
       "Inquiries.in.the.Last.6.Months    0\n",
       "Employment.Length                 0\n",
       "dtype: int64"
      ]
     },
     "execution_count": 20,
     "metadata": {},
     "output_type": "execute_result"
    }
   ],
   "source": [
    "loansdata.isna().sum()"
   ]
  },
  {
   "cell_type": "code",
   "execution_count": 25,
   "id": "ee7ba4ab-a47f-458b-8f19-eb4a4413171f",
   "metadata": {},
   "outputs": [
    {
     "data": {
      "text/plain": [
       "Amount.Requested\n",
       "10000.0    206\n",
       "12000.0    151\n",
       "5000.0     110\n",
       "20000.0    107\n",
       "6000.0     103\n",
       "          ... \n",
       "1675.0       1\n",
       "16550.0      1\n",
       "31075.0      1\n",
       "9550.0       1\n",
       "8475.0       1\n",
       "Name: count, Length: 381, dtype: int64"
      ]
     },
     "execution_count": 25,
     "metadata": {},
     "output_type": "execute_result"
    }
   ],
   "source": [
    "loansdata['Amount.Requested'].value_counts()"
   ]
  },
  {
   "cell_type": "code",
   "execution_count": 27,
   "id": "7aa10afa-a25f-40e0-8768-ba08a8b7f29d",
   "metadata": {},
   "outputs": [
    {
     "data": {
      "text/plain": [
       "Interest.Rate\n",
       "12.12%    124\n",
       "7.90%     119\n",
       "13.11%    115\n",
       "15.31%     76\n",
       "14.09%     72\n",
       "         ... \n",
       "11.09%      1\n",
       "23.33%      1\n",
       "14.18%      1\n",
       "18.62%      1\n",
       "19.04%      1\n",
       "Name: count, Length: 275, dtype: int64"
      ]
     },
     "execution_count": 27,
     "metadata": {},
     "output_type": "execute_result"
    }
   ],
   "source": [
    "loansdata['Interest.Rate'].value_counts()"
   ]
  },
  {
   "cell_type": "code",
   "execution_count": 31,
   "id": "0f20092e-a0e1-4dde-be9b-1ad08e8ea6c5",
   "metadata": {},
   "outputs": [],
   "source": [
    "loansdata['Interest.Rate'] = (loansdata['Interest.Rate'].str[:-1].astype(float))"
   ]
  },
  {
   "cell_type": "code",
   "execution_count": 32,
   "id": "793221dd-bbb8-44dd-be88-7b939ebc4f2f",
   "metadata": {},
   "outputs": [
    {
     "data": {
      "text/plain": [
       "PearsonRResult(statistic=0.33240946119905634, pvalue=1.4646809963097598e-65)"
      ]
     },
     "execution_count": 32,
     "metadata": {},
     "output_type": "execute_result"
    }
   ],
   "source": [
    "stats.pearsonr( loansdata['Interest.Rate'], loansdata['Amount.Requested'] )"
   ]
  },
  {
   "cell_type": "markdown",
   "id": "3745527e-7c61-4ab6-9d7a-20273b9aee03",
   "metadata": {},
   "source": [
    "Conclusion: We reject H0 - No relationship between Interest rate and loan amount as p-value is very less Ha - There is a relationship among the variables with 95% accuracy Hence Intrest rate is varied for different loan amounts"
   ]
  },
  {
   "cell_type": "markdown",
   "id": "57284fc6-ba7b-4362-a4eb-0b8145b99d78",
   "metadata": {},
   "source": [
    "## b. Loan length is directly effecting intrest rate."
   ]
  },
  {
   "cell_type": "code",
   "execution_count": 35,
   "id": "1be3f409-cd81-49b9-9e6c-4d93013b17bb",
   "metadata": {},
   "outputs": [
    {
     "data": {
      "text/plain": [
       "Index(['Amount.Requested', 'Amount.Funded.By.Investors', 'Interest.Rate',\n",
       "       'Loan.Length', 'Loan.Purpose', 'Debt.To.Income.Ratio', 'State',\n",
       "       'Home.Ownership', 'Monthly.Income', 'FICO.Range', 'Open.CREDIT.Lines',\n",
       "       'Revolving.CREDIT.Balance', 'Inquiries.in.the.Last.6.Months',\n",
       "       'Employment.Length'],\n",
       "      dtype='object')"
      ]
     },
     "execution_count": 35,
     "metadata": {},
     "output_type": "execute_result"
    }
   ],
   "source": [
    "loansdata.columns"
   ]
  },
  {
   "cell_type": "code",
   "execution_count": 37,
   "id": "4b7908f9-4990-4382-8954-6bd571acb777",
   "metadata": {},
   "outputs": [
    {
     "data": {
      "text/plain": [
       "Loan.Length\n",
       "36 months    1952\n",
       "60 months     548\n",
       "Name: count, dtype: int64"
      ]
     },
     "execution_count": 37,
     "metadata": {},
     "output_type": "execute_result"
    }
   ],
   "source": [
    "loansdata['Loan.Length'].value_counts()"
   ]
  },
  {
   "cell_type": "markdown",
   "id": "66dc98f0-28a4-48f8-ad72-6f53878e7801",
   "metadata": {},
   "source": [
    "## \n",
    "1)Null Hypothesis : There is no significant difference in interest rates among the loan length groups.\n",
    "2)Alternative Hypothesis : There is a significant difference in interest rates among the loan length groups.\n",
    "3) Significance level = 0.05\n"
   ]
  },
  {
   "cell_type": "code",
   "execution_count": 38,
   "id": "b1e4c52e-b621-4c18-b438-cb6ff435e269",
   "metadata": {},
   "outputs": [],
   "source": [
    "## Here we will perform Anova test"
   ]
  },
  {
   "cell_type": "code",
   "execution_count": 39,
   "id": "2065e5dc-393c-4d72-bcee-5c9c89822a70",
   "metadata": {},
   "outputs": [],
   "source": [
    "var='Interest.Rate'\n",
    "s1 = loansdata.loc[ loansdata['Loan.Length'] == '36 months', var ]\n",
    "s2 = loansdata.loc[ loansdata['Loan.Length'] == '60 months', var ]"
   ]
  },
  {
   "cell_type": "code",
   "execution_count": 40,
   "id": "4e5aa79b-4035-469f-9604-904b2810c5b9",
   "metadata": {},
   "outputs": [
    {
     "data": {
      "text/plain": [
       "F_onewayResult(statistic=548.3261736091927, pvalue=8.529143234124184e-110)"
      ]
     },
     "execution_count": 40,
     "metadata": {},
     "output_type": "execute_result"
    }
   ],
   "source": [
    "stats.f_oneway(s1,s2)"
   ]
  },
  {
   "cell_type": "code",
   "execution_count": 42,
   "id": "dd4ce223-85cc-431b-9adb-9ba94bcfb1bc",
   "metadata": {},
   "outputs": [
    {
     "name": "stdout",
     "output_type": "stream",
     "text": [
      "Reject the null hypothesis. There is a significant difference in interest rates among loan length groups.\n"
     ]
    }
   ],
   "source": [
    "# Compare p-value with significance level\n",
    "p_value=8.529143234124184e-110\n",
    "alpha = 0.05\n",
    "if p_value < alpha:\n",
    "    print(\"Reject the null hypothesis. There is a significant difference in interest rates among loan length groups.\")\n",
    "else:\n",
    "    print(\"Fail to reject the null hypothesis. There is no significant difference in interest rates among loan length groups.\")"
   ]
  },
  {
   "cell_type": "markdown",
   "id": "8d42a593-b968-4fb4-9872-2c81cd49a8fa",
   "metadata": {},
   "source": [
    "## c. Inrest rate varies for different purpose of loans"
   ]
  },
  {
   "cell_type": "markdown",
   "id": "7c975f64-c1c6-46a3-9ba2-90fd3dc5f386",
   "metadata": {},
   "source": [
    "Null Hypothesis :There is no significant difference in interest rates among different loan purposes.\n",
    "Alternative Hypothesis: There is a significant difference in interest rates among different loan purposes.\n",
    "Significance level = 0.05"
   ]
  },
  {
   "cell_type": "code",
   "execution_count": 44,
   "id": "00e798e7-1535-4fbc-b913-f0b1e83e01fc",
   "metadata": {},
   "outputs": [],
   "source": [
    "obs_freq = pd.crosstab( loansdata['Interest.Rate'], loansdata['Loan.Purpose'] )"
   ]
  },
  {
   "cell_type": "code",
   "execution_count": 46,
   "id": "bdd1873a-ff60-4409-a7c9-726a1204edb2",
   "metadata": {},
   "outputs": [
    {
     "data": {
      "text/html": [
       "<div>\n",
       "<style scoped>\n",
       "    .dataframe tbody tr th:only-of-type {\n",
       "        vertical-align: middle;\n",
       "    }\n",
       "\n",
       "    .dataframe tbody tr th {\n",
       "        vertical-align: top;\n",
       "    }\n",
       "\n",
       "    .dataframe thead th {\n",
       "        text-align: right;\n",
       "    }\n",
       "</style>\n",
       "<table border=\"1\" class=\"dataframe\">\n",
       "  <thead>\n",
       "    <tr style=\"text-align: right;\">\n",
       "      <th>Loan.Purpose</th>\n",
       "      <th>car</th>\n",
       "      <th>credit_card</th>\n",
       "      <th>debt_consolidation</th>\n",
       "      <th>educational</th>\n",
       "      <th>home_improvement</th>\n",
       "      <th>house</th>\n",
       "      <th>major_purchase</th>\n",
       "      <th>medical</th>\n",
       "      <th>moving</th>\n",
       "      <th>other</th>\n",
       "      <th>renewable_energy</th>\n",
       "      <th>small_business</th>\n",
       "      <th>vacation</th>\n",
       "      <th>wedding</th>\n",
       "    </tr>\n",
       "    <tr>\n",
       "      <th>Interest.Rate</th>\n",
       "      <th></th>\n",
       "      <th></th>\n",
       "      <th></th>\n",
       "      <th></th>\n",
       "      <th></th>\n",
       "      <th></th>\n",
       "      <th></th>\n",
       "      <th></th>\n",
       "      <th></th>\n",
       "      <th></th>\n",
       "      <th></th>\n",
       "      <th></th>\n",
       "      <th></th>\n",
       "      <th></th>\n",
       "    </tr>\n",
       "  </thead>\n",
       "  <tbody>\n",
       "    <tr>\n",
       "      <th>5.42</th>\n",
       "      <td>0</td>\n",
       "      <td>2</td>\n",
       "      <td>0</td>\n",
       "      <td>0</td>\n",
       "      <td>5</td>\n",
       "      <td>0</td>\n",
       "      <td>1</td>\n",
       "      <td>1</td>\n",
       "      <td>0</td>\n",
       "      <td>0</td>\n",
       "      <td>0</td>\n",
       "      <td>0</td>\n",
       "      <td>1</td>\n",
       "      <td>1</td>\n",
       "    </tr>\n",
       "    <tr>\n",
       "      <th>5.79</th>\n",
       "      <td>1</td>\n",
       "      <td>2</td>\n",
       "      <td>5</td>\n",
       "      <td>0</td>\n",
       "      <td>2</td>\n",
       "      <td>0</td>\n",
       "      <td>1</td>\n",
       "      <td>0</td>\n",
       "      <td>1</td>\n",
       "      <td>1</td>\n",
       "      <td>0</td>\n",
       "      <td>1</td>\n",
       "      <td>0</td>\n",
       "      <td>0</td>\n",
       "    </tr>\n",
       "    <tr>\n",
       "      <th>5.99</th>\n",
       "      <td>0</td>\n",
       "      <td>1</td>\n",
       "      <td>4</td>\n",
       "      <td>0</td>\n",
       "      <td>3</td>\n",
       "      <td>1</td>\n",
       "      <td>1</td>\n",
       "      <td>0</td>\n",
       "      <td>0</td>\n",
       "      <td>0</td>\n",
       "      <td>0</td>\n",
       "      <td>0</td>\n",
       "      <td>0</td>\n",
       "      <td>0</td>\n",
       "    </tr>\n",
       "    <tr>\n",
       "      <th>6.00</th>\n",
       "      <td>0</td>\n",
       "      <td>0</td>\n",
       "      <td>0</td>\n",
       "      <td>0</td>\n",
       "      <td>1</td>\n",
       "      <td>0</td>\n",
       "      <td>0</td>\n",
       "      <td>0</td>\n",
       "      <td>0</td>\n",
       "      <td>0</td>\n",
       "      <td>0</td>\n",
       "      <td>0</td>\n",
       "      <td>0</td>\n",
       "      <td>0</td>\n",
       "    </tr>\n",
       "    <tr>\n",
       "      <th>6.03</th>\n",
       "      <td>3</td>\n",
       "      <td>7</td>\n",
       "      <td>24</td>\n",
       "      <td>0</td>\n",
       "      <td>5</td>\n",
       "      <td>1</td>\n",
       "      <td>6</td>\n",
       "      <td>2</td>\n",
       "      <td>0</td>\n",
       "      <td>4</td>\n",
       "      <td>0</td>\n",
       "      <td>4</td>\n",
       "      <td>1</td>\n",
       "      <td>0</td>\n",
       "    </tr>\n",
       "    <tr>\n",
       "      <th>...</th>\n",
       "      <td>...</td>\n",
       "      <td>...</td>\n",
       "      <td>...</td>\n",
       "      <td>...</td>\n",
       "      <td>...</td>\n",
       "      <td>...</td>\n",
       "      <td>...</td>\n",
       "      <td>...</td>\n",
       "      <td>...</td>\n",
       "      <td>...</td>\n",
       "      <td>...</td>\n",
       "      <td>...</td>\n",
       "      <td>...</td>\n",
       "      <td>...</td>\n",
       "    </tr>\n",
       "    <tr>\n",
       "      <th>23.91</th>\n",
       "      <td>0</td>\n",
       "      <td>0</td>\n",
       "      <td>1</td>\n",
       "      <td>0</td>\n",
       "      <td>0</td>\n",
       "      <td>0</td>\n",
       "      <td>0</td>\n",
       "      <td>0</td>\n",
       "      <td>0</td>\n",
       "      <td>0</td>\n",
       "      <td>0</td>\n",
       "      <td>0</td>\n",
       "      <td>0</td>\n",
       "      <td>0</td>\n",
       "    </tr>\n",
       "    <tr>\n",
       "      <th>24.20</th>\n",
       "      <td>0</td>\n",
       "      <td>0</td>\n",
       "      <td>1</td>\n",
       "      <td>0</td>\n",
       "      <td>0</td>\n",
       "      <td>0</td>\n",
       "      <td>0</td>\n",
       "      <td>0</td>\n",
       "      <td>0</td>\n",
       "      <td>0</td>\n",
       "      <td>0</td>\n",
       "      <td>0</td>\n",
       "      <td>0</td>\n",
       "      <td>0</td>\n",
       "    </tr>\n",
       "    <tr>\n",
       "      <th>24.33</th>\n",
       "      <td>0</td>\n",
       "      <td>0</td>\n",
       "      <td>1</td>\n",
       "      <td>0</td>\n",
       "      <td>0</td>\n",
       "      <td>0</td>\n",
       "      <td>0</td>\n",
       "      <td>0</td>\n",
       "      <td>0</td>\n",
       "      <td>0</td>\n",
       "      <td>0</td>\n",
       "      <td>0</td>\n",
       "      <td>0</td>\n",
       "      <td>0</td>\n",
       "    </tr>\n",
       "    <tr>\n",
       "      <th>24.70</th>\n",
       "      <td>0</td>\n",
       "      <td>1</td>\n",
       "      <td>1</td>\n",
       "      <td>0</td>\n",
       "      <td>0</td>\n",
       "      <td>0</td>\n",
       "      <td>0</td>\n",
       "      <td>0</td>\n",
       "      <td>0</td>\n",
       "      <td>0</td>\n",
       "      <td>0</td>\n",
       "      <td>0</td>\n",
       "      <td>0</td>\n",
       "      <td>0</td>\n",
       "    </tr>\n",
       "    <tr>\n",
       "      <th>24.89</th>\n",
       "      <td>0</td>\n",
       "      <td>0</td>\n",
       "      <td>1</td>\n",
       "      <td>0</td>\n",
       "      <td>0</td>\n",
       "      <td>0</td>\n",
       "      <td>0</td>\n",
       "      <td>0</td>\n",
       "      <td>1</td>\n",
       "      <td>0</td>\n",
       "      <td>0</td>\n",
       "      <td>0</td>\n",
       "      <td>0</td>\n",
       "      <td>0</td>\n",
       "    </tr>\n",
       "  </tbody>\n",
       "</table>\n",
       "<p>275 rows × 14 columns</p>\n",
       "</div>"
      ],
      "text/plain": [
       "Loan.Purpose   car  credit_card  debt_consolidation  educational  \\\n",
       "Interest.Rate                                                      \n",
       "5.42             0            2                   0            0   \n",
       "5.79             1            2                   5            0   \n",
       "5.99             0            1                   4            0   \n",
       "6.00             0            0                   0            0   \n",
       "6.03             3            7                  24            0   \n",
       "...            ...          ...                 ...          ...   \n",
       "23.91            0            0                   1            0   \n",
       "24.20            0            0                   1            0   \n",
       "24.33            0            0                   1            0   \n",
       "24.70            0            1                   1            0   \n",
       "24.89            0            0                   1            0   \n",
       "\n",
       "Loan.Purpose   home_improvement  house  major_purchase  medical  moving  \\\n",
       "Interest.Rate                                                             \n",
       "5.42                          5      0               1        1       0   \n",
       "5.79                          2      0               1        0       1   \n",
       "5.99                          3      1               1        0       0   \n",
       "6.00                          1      0               0        0       0   \n",
       "6.03                          5      1               6        2       0   \n",
       "...                         ...    ...             ...      ...     ...   \n",
       "23.91                         0      0               0        0       0   \n",
       "24.20                         0      0               0        0       0   \n",
       "24.33                         0      0               0        0       0   \n",
       "24.70                         0      0               0        0       0   \n",
       "24.89                         0      0               0        0       1   \n",
       "\n",
       "Loan.Purpose   other  renewable_energy  small_business  vacation  wedding  \n",
       "Interest.Rate                                                              \n",
       "5.42               0                 0               0         1        1  \n",
       "5.79               1                 0               1         0        0  \n",
       "5.99               0                 0               0         0        0  \n",
       "6.00               0                 0               0         0        0  \n",
       "6.03               4                 0               4         1        0  \n",
       "...              ...               ...             ...       ...      ...  \n",
       "23.91              0                 0               0         0        0  \n",
       "24.20              0                 0               0         0        0  \n",
       "24.33              0                 0               0         0        0  \n",
       "24.70              0                 0               0         0        0  \n",
       "24.89              0                 0               0         0        0  \n",
       "\n",
       "[275 rows x 14 columns]"
      ]
     },
     "execution_count": 46,
     "metadata": {},
     "output_type": "execute_result"
    }
   ],
   "source": [
    "obs_freq"
   ]
  },
  {
   "cell_type": "code",
   "execution_count": 47,
   "id": "a98c6463-5554-4c3f-88ca-bca1c7aa9996",
   "metadata": {},
   "outputs": [
    {
     "data": {
      "text/plain": [
       "Chi2ContingencyResult(statistic=4378.952129804514, pvalue=8.396099408489274e-20, dof=3562, expected_freq=array([[0.22  , 1.9536, 5.7508, ..., 0.3828, 0.0924, 0.1716],\n",
       "       [0.28  , 2.4864, 7.3192, ..., 0.4872, 0.1176, 0.2184],\n",
       "       [0.2   , 1.776 , 5.228 , ..., 0.348 , 0.084 , 0.156 ],\n",
       "       ...,\n",
       "       [0.02  , 0.1776, 0.5228, ..., 0.0348, 0.0084, 0.0156],\n",
       "       [0.04  , 0.3552, 1.0456, ..., 0.0696, 0.0168, 0.0312],\n",
       "       [0.04  , 0.3552, 1.0456, ..., 0.0696, 0.0168, 0.0312]]))"
      ]
     },
     "execution_count": 47,
     "metadata": {},
     "output_type": "execute_result"
    }
   ],
   "source": [
    "stats.chi2_contingency( obs_freq )"
   ]
  },
  {
   "cell_type": "code",
   "execution_count": 48,
   "id": "11811958-335d-48ef-acb6-4605005335a2",
   "metadata": {},
   "outputs": [
    {
     "name": "stdout",
     "output_type": "stream",
     "text": [
      "Reject the null hypothesis. There is a significant difference in interest rates among different loan purposes..\n"
     ]
    }
   ],
   "source": [
    "# Compare p-value with significance level\n",
    "p_value=8.396099408489274e-20\n",
    "alpha = 0.05\n",
    "if p_value < alpha:\n",
    "    print(\"Reject the null hypothesis. There is a significant difference in interest rates among different loan purposes..\")\n",
    "else:\n",
    "    print(\"Fail to reject the null hypothesis. There is no significant difference in interest rates among loan length groups.\")"
   ]
  },
  {
   "cell_type": "markdown",
   "id": "da046a65-e5ab-4348-b987-6fb14dd01ae1",
   "metadata": {},
   "source": [
    "## d. There is relationship between FICO scores and Home Ownership. It means that, People with owning home will have high FICO scores."
   ]
  },
  {
   "cell_type": "markdown",
   "id": "ca090c16-582c-4f2f-a988-287ea7423d37",
   "metadata": {},
   "source": [
    "Null Hypothesis: There is no significant difference in FICO scores between people who own homes and those who do not.\n",
    "Alternative Hypothesis: There is a significant difference in FICO scores between people who own homes and those who do not.\n",
    "alpha = 0.05"
   ]
  },
  {
   "cell_type": "code",
   "execution_count": 50,
   "id": "fadc541b-d568-4158-af9c-8d9c00ffc55e",
   "metadata": {},
   "outputs": [],
   "source": [
    "obs_freq_1 = pd.crosstab( loansdata['Home.Ownership'], loansdata['FICO.Range'] )"
   ]
  },
  {
   "cell_type": "code",
   "execution_count": 52,
   "id": "cd9f697e-e500-4b52-96b7-cd1be5bdb455",
   "metadata": {},
   "outputs": [
    {
     "data": {
      "text/html": [
       "<div>\n",
       "<style scoped>\n",
       "    .dataframe tbody tr th:only-of-type {\n",
       "        vertical-align: middle;\n",
       "    }\n",
       "\n",
       "    .dataframe tbody tr th {\n",
       "        vertical-align: top;\n",
       "    }\n",
       "\n",
       "    .dataframe thead th {\n",
       "        text-align: right;\n",
       "    }\n",
       "</style>\n",
       "<table border=\"1\" class=\"dataframe\">\n",
       "  <thead>\n",
       "    <tr style=\"text-align: right;\">\n",
       "      <th>Home.Ownership</th>\n",
       "      <th>MORTGAGE</th>\n",
       "      <th>NONE</th>\n",
       "      <th>OTHER</th>\n",
       "      <th>OWN</th>\n",
       "      <th>RENT</th>\n",
       "    </tr>\n",
       "    <tr>\n",
       "      <th>FICO.Range</th>\n",
       "      <th></th>\n",
       "      <th></th>\n",
       "      <th></th>\n",
       "      <th></th>\n",
       "      <th></th>\n",
       "    </tr>\n",
       "  </thead>\n",
       "  <tbody>\n",
       "    <tr>\n",
       "      <th>640-644</th>\n",
       "      <td>0</td>\n",
       "      <td>0</td>\n",
       "      <td>0</td>\n",
       "      <td>1</td>\n",
       "      <td>4</td>\n",
       "    </tr>\n",
       "    <tr>\n",
       "      <th>645-649</th>\n",
       "      <td>1</td>\n",
       "      <td>0</td>\n",
       "      <td>0</td>\n",
       "      <td>0</td>\n",
       "      <td>2</td>\n",
       "    </tr>\n",
       "    <tr>\n",
       "      <th>650-654</th>\n",
       "      <td>1</td>\n",
       "      <td>0</td>\n",
       "      <td>0</td>\n",
       "      <td>0</td>\n",
       "      <td>0</td>\n",
       "    </tr>\n",
       "    <tr>\n",
       "      <th>655-659</th>\n",
       "      <td>0</td>\n",
       "      <td>0</td>\n",
       "      <td>1</td>\n",
       "      <td>0</td>\n",
       "      <td>3</td>\n",
       "    </tr>\n",
       "    <tr>\n",
       "      <th>660-664</th>\n",
       "      <td>41</td>\n",
       "      <td>0</td>\n",
       "      <td>0</td>\n",
       "      <td>17</td>\n",
       "      <td>67</td>\n",
       "    </tr>\n",
       "    <tr>\n",
       "      <th>665-669</th>\n",
       "      <td>52</td>\n",
       "      <td>0</td>\n",
       "      <td>0</td>\n",
       "      <td>18</td>\n",
       "      <td>75</td>\n",
       "    </tr>\n",
       "    <tr>\n",
       "      <th>670-674</th>\n",
       "      <td>68</td>\n",
       "      <td>0</td>\n",
       "      <td>1</td>\n",
       "      <td>13</td>\n",
       "      <td>91</td>\n",
       "    </tr>\n",
       "    <tr>\n",
       "      <th>675-679</th>\n",
       "      <td>79</td>\n",
       "      <td>0</td>\n",
       "      <td>1</td>\n",
       "      <td>11</td>\n",
       "      <td>75</td>\n",
       "    </tr>\n",
       "    <tr>\n",
       "      <th>680-684</th>\n",
       "      <td>55</td>\n",
       "      <td>0</td>\n",
       "      <td>2</td>\n",
       "      <td>9</td>\n",
       "      <td>91</td>\n",
       "    </tr>\n",
       "    <tr>\n",
       "      <th>685-689</th>\n",
       "      <td>61</td>\n",
       "      <td>0</td>\n",
       "      <td>0</td>\n",
       "      <td>10</td>\n",
       "      <td>65</td>\n",
       "    </tr>\n",
       "    <tr>\n",
       "      <th>690-694</th>\n",
       "      <td>55</td>\n",
       "      <td>0</td>\n",
       "      <td>0</td>\n",
       "      <td>10</td>\n",
       "      <td>75</td>\n",
       "    </tr>\n",
       "    <tr>\n",
       "      <th>695-699</th>\n",
       "      <td>68</td>\n",
       "      <td>0</td>\n",
       "      <td>0</td>\n",
       "      <td>10</td>\n",
       "      <td>75</td>\n",
       "    </tr>\n",
       "    <tr>\n",
       "      <th>700-704</th>\n",
       "      <td>60</td>\n",
       "      <td>0</td>\n",
       "      <td>0</td>\n",
       "      <td>12</td>\n",
       "      <td>59</td>\n",
       "    </tr>\n",
       "    <tr>\n",
       "      <th>705-709</th>\n",
       "      <td>66</td>\n",
       "      <td>0</td>\n",
       "      <td>0</td>\n",
       "      <td>12</td>\n",
       "      <td>56</td>\n",
       "    </tr>\n",
       "    <tr>\n",
       "      <th>710-714</th>\n",
       "      <td>55</td>\n",
       "      <td>0</td>\n",
       "      <td>0</td>\n",
       "      <td>10</td>\n",
       "      <td>47</td>\n",
       "    </tr>\n",
       "    <tr>\n",
       "      <th>715-719</th>\n",
       "      <td>46</td>\n",
       "      <td>0</td>\n",
       "      <td>0</td>\n",
       "      <td>2</td>\n",
       "      <td>45</td>\n",
       "    </tr>\n",
       "    <tr>\n",
       "      <th>720-724</th>\n",
       "      <td>49</td>\n",
       "      <td>0</td>\n",
       "      <td>0</td>\n",
       "      <td>1</td>\n",
       "      <td>64</td>\n",
       "    </tr>\n",
       "    <tr>\n",
       "      <th>725-729</th>\n",
       "      <td>48</td>\n",
       "      <td>0</td>\n",
       "      <td>0</td>\n",
       "      <td>5</td>\n",
       "      <td>41</td>\n",
       "    </tr>\n",
       "    <tr>\n",
       "      <th>730-734</th>\n",
       "      <td>46</td>\n",
       "      <td>0</td>\n",
       "      <td>0</td>\n",
       "      <td>7</td>\n",
       "      <td>41</td>\n",
       "    </tr>\n",
       "    <tr>\n",
       "      <th>735-739</th>\n",
       "      <td>30</td>\n",
       "      <td>0</td>\n",
       "      <td>0</td>\n",
       "      <td>6</td>\n",
       "      <td>29</td>\n",
       "    </tr>\n",
       "    <tr>\n",
       "      <th>740-744</th>\n",
       "      <td>26</td>\n",
       "      <td>0</td>\n",
       "      <td>0</td>\n",
       "      <td>4</td>\n",
       "      <td>23</td>\n",
       "    </tr>\n",
       "    <tr>\n",
       "      <th>745-749</th>\n",
       "      <td>26</td>\n",
       "      <td>0</td>\n",
       "      <td>0</td>\n",
       "      <td>7</td>\n",
       "      <td>21</td>\n",
       "    </tr>\n",
       "    <tr>\n",
       "      <th>750-754</th>\n",
       "      <td>32</td>\n",
       "      <td>0</td>\n",
       "      <td>0</td>\n",
       "      <td>4</td>\n",
       "      <td>25</td>\n",
       "    </tr>\n",
       "    <tr>\n",
       "      <th>755-759</th>\n",
       "      <td>28</td>\n",
       "      <td>0</td>\n",
       "      <td>0</td>\n",
       "      <td>6</td>\n",
       "      <td>12</td>\n",
       "    </tr>\n",
       "    <tr>\n",
       "      <th>760-764</th>\n",
       "      <td>28</td>\n",
       "      <td>0</td>\n",
       "      <td>0</td>\n",
       "      <td>4</td>\n",
       "      <td>14</td>\n",
       "    </tr>\n",
       "    <tr>\n",
       "      <th>765-769</th>\n",
       "      <td>22</td>\n",
       "      <td>0</td>\n",
       "      <td>0</td>\n",
       "      <td>3</td>\n",
       "      <td>11</td>\n",
       "    </tr>\n",
       "    <tr>\n",
       "      <th>770-774</th>\n",
       "      <td>12</td>\n",
       "      <td>0</td>\n",
       "      <td>0</td>\n",
       "      <td>1</td>\n",
       "      <td>4</td>\n",
       "    </tr>\n",
       "    <tr>\n",
       "      <th>775-779</th>\n",
       "      <td>13</td>\n",
       "      <td>0</td>\n",
       "      <td>0</td>\n",
       "      <td>3</td>\n",
       "      <td>6</td>\n",
       "    </tr>\n",
       "    <tr>\n",
       "      <th>780-784</th>\n",
       "      <td>21</td>\n",
       "      <td>0</td>\n",
       "      <td>0</td>\n",
       "      <td>3</td>\n",
       "      <td>4</td>\n",
       "    </tr>\n",
       "    <tr>\n",
       "      <th>785-789</th>\n",
       "      <td>12</td>\n",
       "      <td>0</td>\n",
       "      <td>0</td>\n",
       "      <td>2</td>\n",
       "      <td>5</td>\n",
       "    </tr>\n",
       "    <tr>\n",
       "      <th>790-794</th>\n",
       "      <td>15</td>\n",
       "      <td>0</td>\n",
       "      <td>0</td>\n",
       "      <td>1</td>\n",
       "      <td>4</td>\n",
       "    </tr>\n",
       "    <tr>\n",
       "      <th>795-799</th>\n",
       "      <td>7</td>\n",
       "      <td>0</td>\n",
       "      <td>0</td>\n",
       "      <td>1</td>\n",
       "      <td>5</td>\n",
       "    </tr>\n",
       "    <tr>\n",
       "      <th>800-804</th>\n",
       "      <td>7</td>\n",
       "      <td>1</td>\n",
       "      <td>0</td>\n",
       "      <td>3</td>\n",
       "      <td>2</td>\n",
       "    </tr>\n",
       "    <tr>\n",
       "      <th>805-809</th>\n",
       "      <td>6</td>\n",
       "      <td>0</td>\n",
       "      <td>0</td>\n",
       "      <td>2</td>\n",
       "      <td>3</td>\n",
       "    </tr>\n",
       "    <tr>\n",
       "      <th>810-814</th>\n",
       "      <td>5</td>\n",
       "      <td>0</td>\n",
       "      <td>0</td>\n",
       "      <td>1</td>\n",
       "      <td>2</td>\n",
       "    </tr>\n",
       "    <tr>\n",
       "      <th>815-819</th>\n",
       "      <td>6</td>\n",
       "      <td>0</td>\n",
       "      <td>0</td>\n",
       "      <td>0</td>\n",
       "      <td>0</td>\n",
       "    </tr>\n",
       "    <tr>\n",
       "      <th>820-824</th>\n",
       "      <td>0</td>\n",
       "      <td>0</td>\n",
       "      <td>0</td>\n",
       "      <td>1</td>\n",
       "      <td>0</td>\n",
       "    </tr>\n",
       "    <tr>\n",
       "      <th>830-834</th>\n",
       "      <td>1</td>\n",
       "      <td>0</td>\n",
       "      <td>0</td>\n",
       "      <td>0</td>\n",
       "      <td>0</td>\n",
       "    </tr>\n",
       "  </tbody>\n",
       "</table>\n",
       "</div>"
      ],
      "text/plain": [
       "Home.Ownership  MORTGAGE  NONE  OTHER  OWN  RENT\n",
       "FICO.Range                                      \n",
       "640-644                0     0      0    1     4\n",
       "645-649                1     0      0    0     2\n",
       "650-654                1     0      0    0     0\n",
       "655-659                0     0      1    0     3\n",
       "660-664               41     0      0   17    67\n",
       "665-669               52     0      0   18    75\n",
       "670-674               68     0      1   13    91\n",
       "675-679               79     0      1   11    75\n",
       "680-684               55     0      2    9    91\n",
       "685-689               61     0      0   10    65\n",
       "690-694               55     0      0   10    75\n",
       "695-699               68     0      0   10    75\n",
       "700-704               60     0      0   12    59\n",
       "705-709               66     0      0   12    56\n",
       "710-714               55     0      0   10    47\n",
       "715-719               46     0      0    2    45\n",
       "720-724               49     0      0    1    64\n",
       "725-729               48     0      0    5    41\n",
       "730-734               46     0      0    7    41\n",
       "735-739               30     0      0    6    29\n",
       "740-744               26     0      0    4    23\n",
       "745-749               26     0      0    7    21\n",
       "750-754               32     0      0    4    25\n",
       "755-759               28     0      0    6    12\n",
       "760-764               28     0      0    4    14\n",
       "765-769               22     0      0    3    11\n",
       "770-774               12     0      0    1     4\n",
       "775-779               13     0      0    3     6\n",
       "780-784               21     0      0    3     4\n",
       "785-789               12     0      0    2     5\n",
       "790-794               15     0      0    1     4\n",
       "795-799                7     0      0    1     5\n",
       "800-804                7     1      0    3     2\n",
       "805-809                6     0      0    2     3\n",
       "810-814                5     0      0    1     2\n",
       "815-819                6     0      0    0     0\n",
       "820-824                0     0      0    1     0\n",
       "830-834                1     0      0    0     0"
      ]
     },
     "execution_count": 52,
     "metadata": {},
     "output_type": "execute_result"
    }
   ],
   "source": [
    "obs_freq_1.T"
   ]
  },
  {
   "cell_type": "code",
   "execution_count": 53,
   "id": "589aa382-a92f-4f2d-bb93-e87636565c14",
   "metadata": {},
   "outputs": [
    {
     "data": {
      "text/plain": [
       "Chi2ContingencyResult(statistic=473.564802816852, pvalue=1.0065160858472195e-35, dof=148, expected_freq=array([[2.29600e+00, 2.00000e-03, 1.00000e-02, 4.00000e-01, 2.29200e+00],\n",
       "       [1.37760e+00, 1.20000e-03, 6.00000e-03, 2.40000e-01, 1.37520e+00],\n",
       "       [4.59200e-01, 4.00000e-04, 2.00000e-03, 8.00000e-02, 4.58400e-01],\n",
       "       [1.83680e+00, 1.60000e-03, 8.00000e-03, 3.20000e-01, 1.83360e+00],\n",
       "       [5.74000e+01, 5.00000e-02, 2.50000e-01, 1.00000e+01, 5.73000e+01],\n",
       "       [6.65840e+01, 5.80000e-02, 2.90000e-01, 1.16000e+01, 6.64680e+01],\n",
       "       [7.94416e+01, 6.92000e-02, 3.46000e-01, 1.38400e+01, 7.93032e+01],\n",
       "       [7.62272e+01, 6.64000e-02, 3.32000e-01, 1.32800e+01, 7.60944e+01],\n",
       "       [7.20944e+01, 6.28000e-02, 3.14000e-01, 1.25600e+01, 7.19688e+01],\n",
       "       [6.24512e+01, 5.44000e-02, 2.72000e-01, 1.08800e+01, 6.23424e+01],\n",
       "       [6.42880e+01, 5.60000e-02, 2.80000e-01, 1.12000e+01, 6.41760e+01],\n",
       "       [7.02576e+01, 6.12000e-02, 3.06000e-01, 1.22400e+01, 7.01352e+01],\n",
       "       [6.01552e+01, 5.24000e-02, 2.62000e-01, 1.04800e+01, 6.00504e+01],\n",
       "       [6.15328e+01, 5.36000e-02, 2.68000e-01, 1.07200e+01, 6.14256e+01],\n",
       "       [5.14304e+01, 4.48000e-02, 2.24000e-01, 8.96000e+00, 5.13408e+01],\n",
       "       [4.27056e+01, 3.72000e-02, 1.86000e-01, 7.44000e+00, 4.26312e+01],\n",
       "       [5.23488e+01, 4.56000e-02, 2.28000e-01, 9.12000e+00, 5.22576e+01],\n",
       "       [4.31648e+01, 3.76000e-02, 1.88000e-01, 7.52000e+00, 4.30896e+01],\n",
       "       [4.31648e+01, 3.76000e-02, 1.88000e-01, 7.52000e+00, 4.30896e+01],\n",
       "       [2.98480e+01, 2.60000e-02, 1.30000e-01, 5.20000e+00, 2.97960e+01],\n",
       "       [2.43376e+01, 2.12000e-02, 1.06000e-01, 4.24000e+00, 2.42952e+01],\n",
       "       [2.47968e+01, 2.16000e-02, 1.08000e-01, 4.32000e+00, 2.47536e+01],\n",
       "       [2.80112e+01, 2.44000e-02, 1.22000e-01, 4.88000e+00, 2.79624e+01],\n",
       "       [2.11232e+01, 1.84000e-02, 9.20000e-02, 3.68000e+00, 2.10864e+01],\n",
       "       [2.11232e+01, 1.84000e-02, 9.20000e-02, 3.68000e+00, 2.10864e+01],\n",
       "       [1.65312e+01, 1.44000e-02, 7.20000e-02, 2.88000e+00, 1.65024e+01],\n",
       "       [7.80640e+00, 6.80000e-03, 3.40000e-02, 1.36000e+00, 7.79280e+00],\n",
       "       [1.01024e+01, 8.80000e-03, 4.40000e-02, 1.76000e+00, 1.00848e+01],\n",
       "       [1.28576e+01, 1.12000e-02, 5.60000e-02, 2.24000e+00, 1.28352e+01],\n",
       "       [8.72480e+00, 7.60000e-03, 3.80000e-02, 1.52000e+00, 8.70960e+00],\n",
       "       [9.18400e+00, 8.00000e-03, 4.00000e-02, 1.60000e+00, 9.16800e+00],\n",
       "       [5.96960e+00, 5.20000e-03, 2.60000e-02, 1.04000e+00, 5.95920e+00],\n",
       "       [5.96960e+00, 5.20000e-03, 2.60000e-02, 1.04000e+00, 5.95920e+00],\n",
       "       [5.05120e+00, 4.40000e-03, 2.20000e-02, 8.80000e-01, 5.04240e+00],\n",
       "       [3.67360e+00, 3.20000e-03, 1.60000e-02, 6.40000e-01, 3.66720e+00],\n",
       "       [2.75520e+00, 2.40000e-03, 1.20000e-02, 4.80000e-01, 2.75040e+00],\n",
       "       [4.59200e-01, 4.00000e-04, 2.00000e-03, 8.00000e-02, 4.58400e-01],\n",
       "       [4.59200e-01, 4.00000e-04, 2.00000e-03, 8.00000e-02, 4.58400e-01]]))"
      ]
     },
     "execution_count": 53,
     "metadata": {},
     "output_type": "execute_result"
    }
   ],
   "source": [
    "stats.chi2_contingency( obs_freq_1.T )"
   ]
  },
  {
   "cell_type": "code",
   "execution_count": 54,
   "id": "7bf3d3d2-f4ac-491f-8622-5bc4ee3edd00",
   "metadata": {},
   "outputs": [
    {
     "name": "stdout",
     "output_type": "stream",
     "text": [
      "Reject the null hypothesis. There is a significant difference in FICO scores between people who own homes and those who do not\n"
     ]
    }
   ],
   "source": [
    "pvalue=1.0065160858472195e-35\n",
    "alpha = 0.05\n",
    "if p_value < alpha:\n",
    "    print(\"Reject the null hypothesis. There is a significant difference in FICO scores between people who own homes and those who do not\")\n",
    "else:\n",
    "    print(\"Fail to reject the null hypothesis. There is no significant difference in  in FICO scores between people who own homes and those who do not.\")\n"
   ]
  },
  {
   "cell_type": "markdown",
   "id": "04e539a1-755f-47d6-a58e-6842b1a0a671",
   "metadata": {},
   "source": [
    "## BUSINESS PROBLEM - 2\n",
    "\n",
    "BACKGROUND: When an order is placed by a customer of a small manufacturing company, a\n",
    "price quote must be developed for that order. Because each order is unique, quotes must be\n",
    "established on an order-by-order basis by a pricing expert. The price quote process is laborintensive,\n",
    "as prices depend on many factors such as the part number, customer, geographic\n",
    "location, market, and order volume. The sales department manager is concerned that the pricing\n",
    "process is too complex, and that there might be too much variability in the quoted prices. An\n",
    "improvement team is tasked with studying and improving the pricing process.\n",
    "After interviewing experts to develop a better understanding of the current process, the team\n",
    "designed a study to determine if there is variability between pricing experts. That is, do different\n",
    "pricing experts provide different price quotes? Two randomly selected pricing experts, Mary and\n",
    "Barry, were asked to independently provide prices for twelve randomly selected orders. Each\n",
    "expert provided one price for each of the twelve orders.\n",
    "\n",
    "                         \n",
    "## BUSINESS PROBLEM:\n",
    "We would like to assess if there is any difference in the average\n",
    "price quotes provided by Mary and Barry.\n",
    "\n",
    "## DATA AVAILABLE:\r",
    "##  Price_Quotes.csv\r\n",
    "The data set contains the order number, 1 through 12, and the price quotes by Mary\r\n",
    "and Barry for each order. Each row in the data set is the same order. Thus, Mary and\r\n",
    "Barry produced quotes for the same orders.\n",
    "\n",
    "    "
   ]
  },
  {
   "cell_type": "code",
   "execution_count": 57,
   "id": "2b2af0ff-7025-46d3-8dec-dc25805c0446",
   "metadata": {},
   "outputs": [],
   "source": [
    "Price_Quotes= pd.read_csv(r\"C:\\Users\\kirti\\OneDrive\\Desktop\\Python Excel files\\Basic Statistics - Hypothesis Testing\\4. Basic Statistics - Hypothesis Testing\\Price_Quotes.csv\")"
   ]
  },
  {
   "cell_type": "code",
   "execution_count": 58,
   "id": "43171240-66aa-4d68-b71b-e5a1b40c5361",
   "metadata": {},
   "outputs": [
    {
     "data": {
      "text/html": [
       "<div>\n",
       "<style scoped>\n",
       "    .dataframe tbody tr th:only-of-type {\n",
       "        vertical-align: middle;\n",
       "    }\n",
       "\n",
       "    .dataframe tbody tr th {\n",
       "        vertical-align: top;\n",
       "    }\n",
       "\n",
       "    .dataframe thead th {\n",
       "        text-align: right;\n",
       "    }\n",
       "</style>\n",
       "<table border=\"1\" class=\"dataframe\">\n",
       "  <thead>\n",
       "    <tr style=\"text-align: right;\">\n",
       "      <th></th>\n",
       "      <th>Order_Number</th>\n",
       "      <th>Barry_Price</th>\n",
       "      <th>Mary_Price</th>\n",
       "    </tr>\n",
       "  </thead>\n",
       "  <tbody>\n",
       "    <tr>\n",
       "      <th>0</th>\n",
       "      <td>1</td>\n",
       "      <td>126</td>\n",
       "      <td>114</td>\n",
       "    </tr>\n",
       "    <tr>\n",
       "      <th>1</th>\n",
       "      <td>2</td>\n",
       "      <td>110</td>\n",
       "      <td>118</td>\n",
       "    </tr>\n",
       "    <tr>\n",
       "      <th>2</th>\n",
       "      <td>3</td>\n",
       "      <td>138</td>\n",
       "      <td>114</td>\n",
       "    </tr>\n",
       "    <tr>\n",
       "      <th>3</th>\n",
       "      <td>4</td>\n",
       "      <td>142</td>\n",
       "      <td>111</td>\n",
       "    </tr>\n",
       "    <tr>\n",
       "      <th>4</th>\n",
       "      <td>5</td>\n",
       "      <td>146</td>\n",
       "      <td>129</td>\n",
       "    </tr>\n",
       "    <tr>\n",
       "      <th>5</th>\n",
       "      <td>6</td>\n",
       "      <td>136</td>\n",
       "      <td>119</td>\n",
       "    </tr>\n",
       "    <tr>\n",
       "      <th>6</th>\n",
       "      <td>7</td>\n",
       "      <td>94</td>\n",
       "      <td>97</td>\n",
       "    </tr>\n",
       "    <tr>\n",
       "      <th>7</th>\n",
       "      <td>8</td>\n",
       "      <td>103</td>\n",
       "      <td>104</td>\n",
       "    </tr>\n",
       "    <tr>\n",
       "      <th>8</th>\n",
       "      <td>9</td>\n",
       "      <td>140</td>\n",
       "      <td>127</td>\n",
       "    </tr>\n",
       "    <tr>\n",
       "      <th>9</th>\n",
       "      <td>10</td>\n",
       "      <td>152</td>\n",
       "      <td>133</td>\n",
       "    </tr>\n",
       "    <tr>\n",
       "      <th>10</th>\n",
       "      <td>11</td>\n",
       "      <td>108</td>\n",
       "      <td>103</td>\n",
       "    </tr>\n",
       "    <tr>\n",
       "      <th>11</th>\n",
       "      <td>12</td>\n",
       "      <td>97</td>\n",
       "      <td>108</td>\n",
       "    </tr>\n",
       "  </tbody>\n",
       "</table>\n",
       "</div>"
      ],
      "text/plain": [
       "    Order_Number  Barry_Price  Mary_Price\n",
       "0              1          126         114\n",
       "1              2          110         118\n",
       "2              3          138         114\n",
       "3              4          142         111\n",
       "4              5          146         129\n",
       "5              6          136         119\n",
       "6              7           94          97\n",
       "7              8          103         104\n",
       "8              9          140         127\n",
       "9             10          152         133\n",
       "10            11          108         103\n",
       "11            12           97         108"
      ]
     },
     "execution_count": 58,
     "metadata": {},
     "output_type": "execute_result"
    }
   ],
   "source": [
    "Price_Quotes"
   ]
  },
  {
   "cell_type": "markdown",
   "id": "66fb832d-1f7f-49a9-8c26-e0ce601fe4d5",
   "metadata": {},
   "source": [
    " Null Hypothesis : There is no significant difference in prices quoted by Mary and Barry.\n",
    "\n",
    "Alternative Hypothesis: There is a significant difference in prices quoted by Mary and Barry.\n",
    "\n",
    "alpha = 0.05"
   ]
  },
  {
   "cell_type": "code",
   "execution_count": 60,
   "id": "3d811d6d-07e7-4afc-81ab-a99d5b575fc6",
   "metadata": {},
   "outputs": [],
   "source": [
    "mary_quotes = Price_Quotes['Mary_Price']\n",
    "barry_quotes = Price_Quotes['Barry_Price']"
   ]
  },
  {
   "cell_type": "code",
   "execution_count": 61,
   "id": "4b8138e1-d723-4a38-af11-a65a27259a4f",
   "metadata": {},
   "outputs": [
    {
     "data": {
      "text/plain": [
       "TtestResult(statistic=2.5213765108923494, pvalue=0.02840588045242053, df=11)"
      ]
     },
     "execution_count": 61,
     "metadata": {},
     "output_type": "execute_result"
    }
   ],
   "source": [
    "stats.ttest_rel( Price_Quotes.Barry_Price, Price_Quotes.Mary_Price )"
   ]
  },
  {
   "cell_type": "code",
   "execution_count": 62,
   "id": "b26a69c5-5a5b-4dc8-a734-16539e936e68",
   "metadata": {},
   "outputs": [
    {
     "name": "stdout",
     "output_type": "stream",
     "text": [
      "Reject the null hypothesis. There is a significant difference in prices quoted by Mary and Barry.\n"
     ]
    }
   ],
   "source": [
    "pvalue = 0.02840588045242053\n",
    "alpha = 0.05\n",
    "if p_value < alpha:\n",
    "    print(\"Reject the null hypothesis. There is a significant difference in prices quoted by Mary and Barry.\")\n",
    "else:\n",
    "    print(\"Fail to reject the null hypothesis. There is no significant difference in prices quoted by Mary and Barry.\")"
   ]
  },
  {
   "cell_type": "markdown",
   "id": "faddd25b-e8c8-47af-afd4-f0134322fcec",
   "metadata": {},
   "source": [
    "## BUSINESS PROBLEM-3:\n",
    "\n",
    "BACKGROUND: The New Life Residential Treatment Facility is a NGO that treats teenagers who\n",
    "have shown signs of mental illness. It provides housing and supervision of teenagers who are\n",
    "making the transition from psychiatric hospitals back into the community. Because many of\n",
    "the teenagers were severely abused as children and have been involved with the juvenile\n",
    "justice system, behavioral problems are common at New Life. Employee pay is low and staff\n",
    "turnover (attrition) is high.\n",
    "A reengineering program was instituted at New Life with the goals of lowering behavioral\n",
    "problems of the kids and decreasing employee turnover rates. As a part of this effort, the\n",
    "following changes were made:\n",
    "\n",
    " Employee shifts were shortened from 10 hours to 8 hours each day.\n",
    "    \n",
    " Employees were motivated to become more involved in patient treatments. This\n",
    "included encouraging staff to run various therapeutic treatment sessions and allowing\n",
    "staff to have more say in program changes.\n",
    "    \n",
    " The activities budget was increased.\n",
    "\n",
    " A facility-wide performance evaluation system was put into place that rewarded staff\n",
    "participation and innovation.\n",
    "\n",
    " Management and staff instituted a program designed to raise expectations about\n",
    "appropriate behavior from the kids. This included strict compliance with reporting of\n",
    "behavioral violations, insistence on participation in therapeutic sessions, and a\n",
    "lowered tolerance for even moderate behavioral infractions.\n",
    "\n",
    "To determine the effectiveness of the reengineering effort, a data set comprised of pre- and\n",
    "post-reengineering periods was compiled. The information contains two measures of\n",
    "behavioral problems. A critical incident occurs when a resident goes AWOL (leaves the\n",
    "premises without permission), destroys property (e.g., punching a hole in a wall or throwing\n",
    "furniture through windows), is caught in possession of street drugs, or engages in assault\n",
    "against other residents or staff members. A teenager is temporarily removed from the facility\n",
    "when s/he is sent to jail or back to a psychiatric hospital\n",
    "\n",
    "\n",
    "## BUSINESS PROBLEM:\n",
    "Determine what effect, if any, the reengineering effort had on the\n",
    "incidence behavioral problems and staff turnover. i.e To determine if the reengineering effort\n",
    "changed the critical incidence rate. Is there evidence that the critical incidence rate\n",
    "improved?\n",
    "\n",
    "## DATA AVAILABLE:\n",
    "Price_Quotes.csv\r\n",
    "The data set contains 20 months of data; the first 13 months were prior to reengineering. The\r\n",
    "variables in the data includ\n",
    "e:\r\n",
    " Reengineer: Whether the month was before (Prior) or after (Post) reengineer\n",
    "ing\r\n",
    " Employee Turnover: The percentage of employees who quit in a given\r\n",
    "month, out of the total number of empl\n",
    "oyees\r\n",
    " TRFF(%): The percentage of residents who were temporarily removed from\r\n",
    "the facility, out of the total number of re\n",
    "sidents\r\n",
    " CI (%): The percentage of critical incident reports written that month, out of\r\n",
    "the total number of residents"
   ]
  },
  {
   "cell_type": "code",
   "execution_count": 64,
   "id": "1eafc810-47ac-4e6e-b748-82ebc25477f1",
   "metadata": {},
   "outputs": [],
   "source": [
    "Treatment_Facility = pd.read_csv(r\"C:\\Users\\kirti\\OneDrive\\Desktop\\Python Excel files\\Basic Statistics - Hypothesis Testing\\4. Basic Statistics - Hypothesis Testing\\Treatment_Facility.csv\")"
   ]
  },
  {
   "cell_type": "code",
   "execution_count": 65,
   "id": "cb3557bc-10ea-4986-83a3-e4d8c69745fa",
   "metadata": {},
   "outputs": [
    {
     "data": {
      "text/html": [
       "<div>\n",
       "<style scoped>\n",
       "    .dataframe tbody tr th:only-of-type {\n",
       "        vertical-align: middle;\n",
       "    }\n",
       "\n",
       "    .dataframe tbody tr th {\n",
       "        vertical-align: top;\n",
       "    }\n",
       "\n",
       "    .dataframe thead th {\n",
       "        text-align: right;\n",
       "    }\n",
       "</style>\n",
       "<table border=\"1\" class=\"dataframe\">\n",
       "  <thead>\n",
       "    <tr style=\"text-align: right;\">\n",
       "      <th></th>\n",
       "      <th>Month</th>\n",
       "      <th>Reengineer</th>\n",
       "      <th>Employee_Turnover</th>\n",
       "      <th>VAR4</th>\n",
       "      <th>VAR5</th>\n",
       "    </tr>\n",
       "  </thead>\n",
       "  <tbody>\n",
       "    <tr>\n",
       "      <th>0</th>\n",
       "      <td>1</td>\n",
       "      <td>Prior</td>\n",
       "      <td>0.0000</td>\n",
       "      <td>24.390244</td>\n",
       "      <td>42.682927</td>\n",
       "    </tr>\n",
       "    <tr>\n",
       "      <th>1</th>\n",
       "      <td>2</td>\n",
       "      <td>Prior</td>\n",
       "      <td>6.0606</td>\n",
       "      <td>19.354839</td>\n",
       "      <td>25.806452</td>\n",
       "    </tr>\n",
       "    <tr>\n",
       "      <th>2</th>\n",
       "      <td>3</td>\n",
       "      <td>Prior</td>\n",
       "      <td>12.1212</td>\n",
       "      <td>35.087719</td>\n",
       "      <td>146.198830</td>\n",
       "    </tr>\n",
       "    <tr>\n",
       "      <th>3</th>\n",
       "      <td>4</td>\n",
       "      <td>Prior</td>\n",
       "      <td>3.3333</td>\n",
       "      <td>18.404908</td>\n",
       "      <td>110.429448</td>\n",
       "    </tr>\n",
       "    <tr>\n",
       "      <th>4</th>\n",
       "      <td>5</td>\n",
       "      <td>Prior</td>\n",
       "      <td>12.9032</td>\n",
       "      <td>17.964072</td>\n",
       "      <td>23.952096</td>\n",
       "    </tr>\n",
       "    <tr>\n",
       "      <th>5</th>\n",
       "      <td>6</td>\n",
       "      <td>Prior</td>\n",
       "      <td>9.6774</td>\n",
       "      <td>41.176471</td>\n",
       "      <td>47.058824</td>\n",
       "    </tr>\n",
       "    <tr>\n",
       "      <th>6</th>\n",
       "      <td>7</td>\n",
       "      <td>Prior</td>\n",
       "      <td>11.7647</td>\n",
       "      <td>13.422819</td>\n",
       "      <td>0.000000</td>\n",
       "    </tr>\n",
       "    <tr>\n",
       "      <th>7</th>\n",
       "      <td>8</td>\n",
       "      <td>Prior</td>\n",
       "      <td>11.4286</td>\n",
       "      <td>31.250000</td>\n",
       "      <td>25.000000</td>\n",
       "    </tr>\n",
       "    <tr>\n",
       "      <th>8</th>\n",
       "      <td>9</td>\n",
       "      <td>Prior</td>\n",
       "      <td>23.0769</td>\n",
       "      <td>17.241379</td>\n",
       "      <td>132.183908</td>\n",
       "    </tr>\n",
       "    <tr>\n",
       "      <th>9</th>\n",
       "      <td>10</td>\n",
       "      <td>Prior</td>\n",
       "      <td>15.0000</td>\n",
       "      <td>16.574586</td>\n",
       "      <td>16.574586</td>\n",
       "    </tr>\n",
       "    <tr>\n",
       "      <th>10</th>\n",
       "      <td>11</td>\n",
       "      <td>Prior</td>\n",
       "      <td>10.0000</td>\n",
       "      <td>5.917160</td>\n",
       "      <td>88.757396</td>\n",
       "    </tr>\n",
       "    <tr>\n",
       "      <th>11</th>\n",
       "      <td>12</td>\n",
       "      <td>Prior</td>\n",
       "      <td>26.0870</td>\n",
       "      <td>21.164021</td>\n",
       "      <td>31.746032</td>\n",
       "    </tr>\n",
       "    <tr>\n",
       "      <th>12</th>\n",
       "      <td>13</td>\n",
       "      <td>Prior</td>\n",
       "      <td>11.1111</td>\n",
       "      <td>5.076142</td>\n",
       "      <td>10.152284</td>\n",
       "    </tr>\n",
       "    <tr>\n",
       "      <th>13</th>\n",
       "      <td>14</td>\n",
       "      <td>Post</td>\n",
       "      <td>26.6667</td>\n",
       "      <td>9.708738</td>\n",
       "      <td>29.126214</td>\n",
       "    </tr>\n",
       "    <tr>\n",
       "      <th>14</th>\n",
       "      <td>15</td>\n",
       "      <td>Post</td>\n",
       "      <td>17.9487</td>\n",
       "      <td>4.201681</td>\n",
       "      <td>21.008403</td>\n",
       "    </tr>\n",
       "    <tr>\n",
       "      <th>15</th>\n",
       "      <td>16</td>\n",
       "      <td>Post</td>\n",
       "      <td>12.8205</td>\n",
       "      <td>13.043478</td>\n",
       "      <td>34.782609</td>\n",
       "    </tr>\n",
       "    <tr>\n",
       "      <th>16</th>\n",
       "      <td>17</td>\n",
       "      <td>Post</td>\n",
       "      <td>15.7895</td>\n",
       "      <td>9.950249</td>\n",
       "      <td>19.900498</td>\n",
       "    </tr>\n",
       "    <tr>\n",
       "      <th>17</th>\n",
       "      <td>18</td>\n",
       "      <td>Post</td>\n",
       "      <td>0.0000</td>\n",
       "      <td>9.950249</td>\n",
       "      <td>9.950249</td>\n",
       "    </tr>\n",
       "    <tr>\n",
       "      <th>18</th>\n",
       "      <td>19</td>\n",
       "      <td>Post</td>\n",
       "      <td>30.7692</td>\n",
       "      <td>8.510638</td>\n",
       "      <td>25.531915</td>\n",
       "    </tr>\n",
       "    <tr>\n",
       "      <th>19</th>\n",
       "      <td>20</td>\n",
       "      <td>Post</td>\n",
       "      <td>26.8293</td>\n",
       "      <td>9.259259</td>\n",
       "      <td>23.148148</td>\n",
       "    </tr>\n",
       "  </tbody>\n",
       "</table>\n",
       "</div>"
      ],
      "text/plain": [
       "    Month Reengineer  Employee_Turnover       VAR4        VAR5\n",
       "0       1      Prior             0.0000  24.390244   42.682927\n",
       "1       2      Prior             6.0606  19.354839   25.806452\n",
       "2       3      Prior            12.1212  35.087719  146.198830\n",
       "3       4      Prior             3.3333  18.404908  110.429448\n",
       "4       5      Prior            12.9032  17.964072   23.952096\n",
       "5       6      Prior             9.6774  41.176471   47.058824\n",
       "6       7      Prior            11.7647  13.422819    0.000000\n",
       "7       8      Prior            11.4286  31.250000   25.000000\n",
       "8       9      Prior            23.0769  17.241379  132.183908\n",
       "9      10      Prior            15.0000  16.574586   16.574586\n",
       "10     11      Prior            10.0000   5.917160   88.757396\n",
       "11     12      Prior            26.0870  21.164021   31.746032\n",
       "12     13      Prior            11.1111   5.076142   10.152284\n",
       "13     14       Post            26.6667   9.708738   29.126214\n",
       "14     15       Post            17.9487   4.201681   21.008403\n",
       "15     16       Post            12.8205  13.043478   34.782609\n",
       "16     17       Post            15.7895   9.950249   19.900498\n",
       "17     18       Post             0.0000   9.950249    9.950249\n",
       "18     19       Post            30.7692   8.510638   25.531915\n",
       "19     20       Post            26.8293   9.259259   23.148148"
      ]
     },
     "execution_count": 65,
     "metadata": {},
     "output_type": "execute_result"
    }
   ],
   "source": [
    "Treatment_Facility"
   ]
  },
  {
   "cell_type": "code",
   "execution_count": 66,
   "id": "3a0858b5-1987-4cee-b06d-1e63c52ed850",
   "metadata": {},
   "outputs": [],
   "source": [
    "Treatment_Facility.rename(columns = {'VAR4':'TRFF', 'VAR5':'CI'}, inplace = True)"
   ]
  },
  {
   "cell_type": "code",
   "execution_count": 68,
   "id": "1e4b6eac-269a-4f77-98f1-5ebf9e085758",
   "metadata": {},
   "outputs": [
    {
     "data": {
      "text/html": [
       "<div>\n",
       "<style scoped>\n",
       "    .dataframe tbody tr th:only-of-type {\n",
       "        vertical-align: middle;\n",
       "    }\n",
       "\n",
       "    .dataframe tbody tr th {\n",
       "        vertical-align: top;\n",
       "    }\n",
       "\n",
       "    .dataframe thead th {\n",
       "        text-align: right;\n",
       "    }\n",
       "</style>\n",
       "<table border=\"1\" class=\"dataframe\">\n",
       "  <thead>\n",
       "    <tr style=\"text-align: right;\">\n",
       "      <th></th>\n",
       "      <th>Month</th>\n",
       "      <th>Reengineer</th>\n",
       "      <th>Employee_Turnover</th>\n",
       "      <th>TRFF</th>\n",
       "      <th>CI</th>\n",
       "    </tr>\n",
       "  </thead>\n",
       "  <tbody>\n",
       "    <tr>\n",
       "      <th>0</th>\n",
       "      <td>1</td>\n",
       "      <td>Prior</td>\n",
       "      <td>0.0000</td>\n",
       "      <td>24.390244</td>\n",
       "      <td>42.682927</td>\n",
       "    </tr>\n",
       "    <tr>\n",
       "      <th>1</th>\n",
       "      <td>2</td>\n",
       "      <td>Prior</td>\n",
       "      <td>6.0606</td>\n",
       "      <td>19.354839</td>\n",
       "      <td>25.806452</td>\n",
       "    </tr>\n",
       "    <tr>\n",
       "      <th>2</th>\n",
       "      <td>3</td>\n",
       "      <td>Prior</td>\n",
       "      <td>12.1212</td>\n",
       "      <td>35.087719</td>\n",
       "      <td>146.198830</td>\n",
       "    </tr>\n",
       "    <tr>\n",
       "      <th>3</th>\n",
       "      <td>4</td>\n",
       "      <td>Prior</td>\n",
       "      <td>3.3333</td>\n",
       "      <td>18.404908</td>\n",
       "      <td>110.429448</td>\n",
       "    </tr>\n",
       "    <tr>\n",
       "      <th>4</th>\n",
       "      <td>5</td>\n",
       "      <td>Prior</td>\n",
       "      <td>12.9032</td>\n",
       "      <td>17.964072</td>\n",
       "      <td>23.952096</td>\n",
       "    </tr>\n",
       "  </tbody>\n",
       "</table>\n",
       "</div>"
      ],
      "text/plain": [
       "   Month Reengineer  Employee_Turnover       TRFF          CI\n",
       "0      1      Prior             0.0000  24.390244   42.682927\n",
       "1      2      Prior             6.0606  19.354839   25.806452\n",
       "2      3      Prior            12.1212  35.087719  146.198830\n",
       "3      4      Prior             3.3333  18.404908  110.429448\n",
       "4      5      Prior            12.9032  17.964072   23.952096"
      ]
     },
     "execution_count": 68,
     "metadata": {},
     "output_type": "execute_result"
    }
   ],
   "source": [
    "Treatment_Facility.head()"
   ]
  },
  {
   "cell_type": "markdown",
   "id": "397166c9-3452-4408-a795-a681597b308b",
   "metadata": {},
   "source": [
    "## 1) To test weather the reengineering effort had on the staff turnover\n"
   ]
  },
  {
   "cell_type": "markdown",
   "id": "e4e4851e-a25e-4b65-ac7a-e263bc401462",
   "metadata": {},
   "source": [
    "## Hypotheses:\n",
    "\n",
    "Null Hypothesis:There is no significant difference in turnover rates before and after reengineering.\n",
    "\n",
    "Alternative Hypothesis : There is a significant difference in turnover rates before and after reengineering."
   ]
  },
  {
   "cell_type": "code",
   "execution_count": 70,
   "id": "9e5b4f28-2617-41de-99bc-4999735c485c",
   "metadata": {},
   "outputs": [],
   "source": [
    "var = 'Employee_Turnover'\n",
    "\n",
    "Prior_Reengineer = Treatment_Facility.loc[ Treatment_Facility.Reengineer == 'Prior', var ]\n",
    "Post_Reengineer = Treatment_Facility.loc[ Treatment_Facility.Reengineer == 'Post', var ]"
   ]
  },
  {
   "cell_type": "code",
   "execution_count": 71,
   "id": "c2502b0d-fcd5-48cb-9e5e-13795de54143",
   "metadata": {},
   "outputs": [
    {
     "data": {
      "text/plain": [
       "F_onewayResult(statistic=3.133985828895568, pvalue=0.09361109345535291)"
      ]
     },
     "execution_count": 71,
     "metadata": {},
     "output_type": "execute_result"
    }
   ],
   "source": [
    "stats.f_oneway(Prior_Reengineer,Post_Reengineer)"
   ]
  },
  {
   "cell_type": "code",
   "execution_count": 72,
   "id": "bac88d64-addf-4e09-a320-f427dde32ba0",
   "metadata": {},
   "outputs": [
    {
     "name": "stdout",
     "output_type": "stream",
     "text": [
      "Fail to reject the null hypothesis. There is no significant difference in turnover rates before and after reengineering.\n"
     ]
    }
   ],
   "source": [
    "p_value =0.09361109345535291\n",
    "alpha = 0.05\n",
    "if p_value < alpha:\n",
    "    print(\"Reject the null hypothesis. There is a significant difference in turnover rates before and after reengineering.\")\n",
    "else:\n",
    "    print(\"Fail to reject the null hypothesis. There is no significant difference in turnover rates before and after reengineering.\")"
   ]
  },
  {
   "cell_type": "markdown",
   "id": "fcd58267-7a3e-4bd8-b60c-cc0a07eeeb96",
   "metadata": {},
   "source": [
    "## 2) To test weather the reengineering effort chnaged the critical incidence rate"
   ]
  },
  {
   "cell_type": "markdown",
   "id": "2df3d631-13f6-4431-8b1f-ed081479fd2b",
   "metadata": {},
   "source": [
    "## Hypotheses:\n",
    "\n",
    "Null Hypothesis:There is no significant difference in critical incidence rates before and after reengineering.\n",
    "\n",
    "Alternative Hypothesis : There is a significant difference in  critical incidence rates before and after reengineering."
   ]
  },
  {
   "cell_type": "code",
   "execution_count": 74,
   "id": "fd4e2bbb-31e6-4de3-9bc4-4076d7c4508e",
   "metadata": {},
   "outputs": [],
   "source": [
    "var = 'CI'\n",
    "\n",
    "Prior_Reengineer = Treatment_Facility.loc[ Treatment_Facility.Reengineer == 'Prior', var ]\n",
    "Post_Reengineer = Treatment_Facility.loc[ Treatment_Facility.Reengineer == 'Post', var ]"
   ]
  },
  {
   "cell_type": "code",
   "execution_count": 75,
   "id": "9046f998-2c40-47d5-9e69-06e5d29b0b16",
   "metadata": {},
   "outputs": [
    {
     "data": {
      "text/plain": [
       "F_onewayResult(statistic=2.650105376271948, pvalue=0.12091989189884142)"
      ]
     },
     "execution_count": 75,
     "metadata": {},
     "output_type": "execute_result"
    }
   ],
   "source": [
    "stats.f_oneway(Prior_Reengineer,Post_Reengineer)"
   ]
  },
  {
   "cell_type": "code",
   "execution_count": 78,
   "id": "deb42a93-93de-4f62-a39e-57b8ce067562",
   "metadata": {},
   "outputs": [
    {
     "name": "stdout",
     "output_type": "stream",
     "text": [
      "Fail to reject the null hypothesis. There is no significant difference in  critical incidence rates before and after reengineering.\n"
     ]
    }
   ],
   "source": [
    "p_value= 0.12091989189884142\n",
    "alpha = 0.05\n",
    "if p_value < alpha:\n",
    "    print(\"Reject the null hypothesis. There is a significant difference in  critical incidence  rates before and after reengineering.\")\n",
    "else:\n",
    "    print(\"Fail to reject the null hypothesis. There is no significant difference in  critical incidence rates before and after reengineering.\")"
   ]
  },
  {
   "cell_type": "markdown",
   "id": "6a674530-d218-4b1b-b9bf-3ed28aba18cc",
   "metadata": {},
   "source": [
    "## BUSINESS PROBLEM-4\n",
    "\n",
    "BACKGROUND: Software development projects typically follow six basic phases: Requirements,\n",
    "design, implementation (and integration), testing (validation), deployment (installation) and\n",
    "maintenance. First, general requirements are gathered, and the scope of the functionality is\n",
    "defined. Then, alternative scenarios for the required functionality are developed and\n",
    "evaluated. Implementation, usually 50% or more of the development time, is the phase in\n",
    "which the design is translated into programs and integrated with other parts of the software –\n",
    "this is when software engineers actually develop the code. During the final phases, programs\n",
    "are tested, software is put into use, and faults or performance issues are addressed.\n",
    "ApDudes, a developer of applications for tablet computers, was having difficulty meeting\n",
    "project deadlines; only 10% of their projects had been completed within budget and on time\n",
    "last year and that was starting to hurt business. The group’s project manager was tasked with\n",
    "studying problems within the implementation phase. He found that software engineers were\n",
    "having difficulty prioritizing their work, and that they often became overwhelmed by the\n",
    "magnitude of the projects.\n",
    "As a result, two changes were made. Each project was broken down into smaller, distinct\n",
    "tasks, or jobs, and each job was assigned a priority. The project manager believes that this\n",
    "classification and prioritization system would speed the completion of high priority jobs, and\n",
    "thus lower overall project completion time\n",
    "\n",
    "\n",
    "## BUSINESS PROBLEM:\n",
    "We will focus on the prioritization system. If the system is working, then\n",
    "high priority jobs, on average, should be completed more quickly than medium priority jobs,\n",
    "and medium priority jobs should be completed more quickly than low priority jobs. Use the\n",
    "data provided to determine whether this is, in fact, occurring.\n",
    "\n",
    "\n",
    "## DATA AVAILABLE:\n",
    " Priority_Assessment.csv\n",
    "The data set contains a random sample of 642 jobs completed over the last six months. The\n",
    "variables in the data set are:\n",
    "Days The number of days it took to complete the job\n",
    "Priority The priority level assigned to that job"
   ]
  },
  {
   "cell_type": "code",
   "execution_count": 81,
   "id": "484bab62-befe-4385-a398-e6dd6a1e8026",
   "metadata": {},
   "outputs": [],
   "source": [
    "Priority_Assessment = pd.read_csv(r\"C:\\Users\\kirti\\OneDrive\\Desktop\\Python Excel files\\Basic Statistics - Hypothesis Testing\\4. Basic Statistics - Hypothesis Testing\\Priority_Assessment.csv\")"
   ]
  },
  {
   "cell_type": "code",
   "execution_count": 88,
   "id": "9b5b0499-893a-40ab-86a7-d38b9f2ee7bf",
   "metadata": {},
   "outputs": [
    {
     "name": "stdout",
     "output_type": "stream",
     "text": [
      "<class 'pandas.core.frame.DataFrame'>\n",
      "RangeIndex: 642 entries, 0 to 641\n",
      "Data columns (total 2 columns):\n",
      " #   Column    Non-Null Count  Dtype  \n",
      "---  ------    --------------  -----  \n",
      " 0   Days      642 non-null    float64\n",
      " 1   Priority  642 non-null    object \n",
      "dtypes: float64(1), object(1)\n",
      "memory usage: 10.2+ KB\n"
     ]
    }
   ],
   "source": [
    "Priority_Assessment.info()"
   ]
  },
  {
   "cell_type": "code",
   "execution_count": 90,
   "id": "3ab897c5-0072-44ab-a7cc-d187bbdc93b3",
   "metadata": {},
   "outputs": [
    {
     "data": {
      "text/plain": [
       "Days        0\n",
       "Priority    0\n",
       "dtype: int64"
      ]
     },
     "execution_count": 90,
     "metadata": {},
     "output_type": "execute_result"
    }
   ],
   "source": [
    "Priority_Assessment.isna().sum()"
   ]
  },
  {
   "cell_type": "code",
   "execution_count": 83,
   "id": "9c1a6c73-045b-4229-ab9f-192db7be133a",
   "metadata": {},
   "outputs": [
    {
     "data": {
      "text/plain": [
       "Priority\n",
       "High      326\n",
       "Medium    249\n",
       "Low        67\n",
       "Name: count, dtype: int64"
      ]
     },
     "execution_count": 83,
     "metadata": {},
     "output_type": "execute_result"
    }
   ],
   "source": [
    "Priority_Assessment.Priority.value_counts()"
   ]
  },
  {
   "cell_type": "code",
   "execution_count": 84,
   "id": "c6aacfe2-909d-4eb4-aa2e-306ef0fe799b",
   "metadata": {},
   "outputs": [
    {
     "data": {
      "text/plain": [
       "3"
      ]
     },
     "execution_count": 84,
     "metadata": {},
     "output_type": "execute_result"
    }
   ],
   "source": [
    "Priority_Assessment.Priority.nunique()"
   ]
  },
  {
   "cell_type": "markdown",
   "id": "89189254-6a54-47e0-a973-3cad2a06656d",
   "metadata": {},
   "source": [
    "## Hypotheses:\n",
    "Null Hypothesis:There is no significant difference in prioritization system implemented\n",
    "\n",
    "Alternative Hypothesis : There is a significant difference in prioritization system implemented\n"
   ]
  },
  {
   "cell_type": "code",
   "execution_count": 85,
   "id": "0fd32333-a6ab-46d6-9062-9b596258fbf2",
   "metadata": {},
   "outputs": [],
   "source": [
    "days = 'Days'\n",
    "\n",
    "High_Priority = Priority_Assessment.loc[ Priority_Assessment.Priority == 'High', days ]\n",
    "Medium_Priority = Priority_Assessment.loc[ Priority_Assessment.Priority == 'Medium', days ]\n",
    "Low_Priority = Priority_Assessment.loc[ Priority_Assessment.Priority == 'Low', days ]\n",
    "\n"
   ]
  },
  {
   "cell_type": "code",
   "execution_count": 86,
   "id": "8f58dae4-a3a4-4a78-b532-3e2b4b43a959",
   "metadata": {},
   "outputs": [
    {
     "data": {
      "text/plain": [
       "F_onewayResult(statistic=1.812311010076072, pvalue=0.16411459461716182)"
      ]
     },
     "execution_count": 86,
     "metadata": {},
     "output_type": "execute_result"
    }
   ],
   "source": [
    "stats.f_oneway( High_Priority, Medium_Priority, Low_Priority )"
   ]
  },
  {
   "cell_type": "code",
   "execution_count": 87,
   "id": "8d7292a4-2a2e-4939-93de-6dc3c64e520f",
   "metadata": {},
   "outputs": [
    {
     "name": "stdout",
     "output_type": "stream",
     "text": [
      "Fail to reject the null hypothesis. There is no significant difference in prioritization system implemented\n"
     ]
    }
   ],
   "source": [
    "p_value= 0.16411459461716182\n",
    "alpha = 0.05\n",
    "if p_value < alpha:\n",
    "    print(\"Reject the null hypothesis. There is a significant difference in prioritization system implemented  \")\n",
    "else:\n",
    "    print(\"Fail to reject the null hypothesis. There is no significant difference in prioritization system implemented\")\n",
    "\n"
   ]
  },
  {
   "cell_type": "markdown",
   "id": "f20a1580-6f19-4e65-9e08-24e2743db93f",
   "metadata": {},
   "source": [
    "## BUSINESS PROBLEM-5\n",
    "BackGround: Film on the Rocks is a summer movie series held at the world-renowned Red\n",
    "Rocks Amphitheatre, which is situated on a hillside of the Rocky Mountains in Morrison,\n",
    "Colorado fifteen miles west of Denver. The film series features classic films, and pre-show\n",
    "entertainment including bands and comedians. Among the features that have made Red Rocks\n",
    "an internationally-famous concert stage are sweeping views of Denver, outstanding acoustics,\n",
    "and cool, dry Colorado summers.\n",
    "    \n",
    "The series is jointly promoted by the Denver Film Society (DFS) and the City and County of\n",
    "Denver’s Division of Theatres and Arenas (DT&A). It is marketed through various outlets\n",
    "including newspaper, radio, and the Red Rocks and Denver Film Society websites. Film on the\n",
    "Rocks patrons also benefit from corporate sponsorship. In return for on-site posters and\n",
    "banners at Red Rocks, and recognition in pre- show marketing materials, corporations donate\n",
    "funds that keep ticket prices low.\n",
    "\n",
    "Although the Red Rocks Amphitheatre provides a cinematic experience unlike any other venue,\n",
    "there are tradeoffs. Red Rocks is a farther commute for most people than the local movie\n",
    "theater or movie rental store. Given the uphill walk to the amphitheatre from the parking lot,\n",
    "getting there can be challenging. And, as an outdoor venue, the viewing experience is\n",
    "dependent on the weather.\n",
    "    \n",
    "Patron satisfaction with Red Rocks as the venue for the film series is critical to its success. But,\n",
    "the series promoters would also like to increase attendance at the film series, and are unsure\n",
    "how to do this. Promoters recognize that they need a better understanding of the customer\n",
    "base, and of the current level of satisfaction. Knowing the demographics of those who attend\n",
    "the film series will help attract and expand corporate sponsorship. In addition, knowing which\n",
    "media outlets are most effective will provideinformation about how best to target future\n",
    "marketing campaigns.\n",
    "                                                                                                   \n",
    "To this end, the promoters conducted surveys during a recent Film on the Rocks season.\n",
    "Questionnaires were handed out at the entrance. Volunteers walked through the crowd to\n",
    "remind people about the free soft drink given to those who returned the survey.\n",
    "                                                                                                   \n",
    "## BUSINESS PROBLEM:\n",
    "Use the survey results to address the following questions\n",
    " What is the overall level of customer satisfaction?\n",
    " What factors are linked to satisfaction?\n",
    " What is the demographic profile of Film on the Rocks patrons?\n",
    " In what media outlet(s) should the film series be advertised?\n",
    "\n",
    "\n",
    "## DATA AVAILABLE: Data provided by the Denver Film Society\n",
    " Films.csv\n",
    "The data set contains 330 surveys collected during three Film on the Rocks movies:\n",
    "Ferris Bueller’s Day Off, Old School, and Willy Wonka and the Chocolate Factory.\n",
    "The variables are:"
   ]
  },
  {
   "cell_type": "code",
   "execution_count": 92,
   "id": "b9a5fc75-a0e2-433c-8a38-e75b7f33e113",
   "metadata": {},
   "outputs": [],
   "source": [
    "Films = pd.read_csv(r\"C:\\Users\\kirti\\OneDrive\\Desktop\\Python Excel files\\Basic Statistics - Hypothesis Testing\\4. Basic Statistics - Hypothesis Testing\\Films.csv\")"
   ]
  },
  {
   "cell_type": "code",
   "execution_count": 99,
   "id": "5be5c69c-777b-43f2-8afd-ade7fcd53eb3",
   "metadata": {},
   "outputs": [
    {
     "data": {
      "text/html": [
       "<div>\n",
       "<style scoped>\n",
       "    .dataframe tbody tr th:only-of-type {\n",
       "        vertical-align: middle;\n",
       "    }\n",
       "\n",
       "    .dataframe tbody tr th {\n",
       "        vertical-align: top;\n",
       "    }\n",
       "\n",
       "    .dataframe thead th {\n",
       "        text-align: right;\n",
       "    }\n",
       "</style>\n",
       "<table border=\"1\" class=\"dataframe\">\n",
       "  <thead>\n",
       "    <tr style=\"text-align: right;\">\n",
       "      <th></th>\n",
       "      <th>_rowstate_</th>\n",
       "      <th>Movie</th>\n",
       "      <th>Gender</th>\n",
       "      <th>Marital_Status</th>\n",
       "      <th>Sinage</th>\n",
       "      <th>Parking</th>\n",
       "      <th>Clean</th>\n",
       "      <th>Overall</th>\n",
       "      <th>Age</th>\n",
       "      <th>Income</th>\n",
       "      <th>Hear_About</th>\n",
       "    </tr>\n",
       "  </thead>\n",
       "  <tbody>\n",
       "    <tr>\n",
       "      <th>0</th>\n",
       "      <td>0</td>\n",
       "      <td>Ferris Buellers Day Off</td>\n",
       "      <td>Female</td>\n",
       "      <td>Married</td>\n",
       "      <td>2.0</td>\n",
       "      <td>2.0</td>\n",
       "      <td>2.0</td>\n",
       "      <td>2.0</td>\n",
       "      <td>3.0</td>\n",
       "      <td>1.0</td>\n",
       "      <td>5</td>\n",
       "    </tr>\n",
       "    <tr>\n",
       "      <th>1</th>\n",
       "      <td>0</td>\n",
       "      <td>Ferris Buellers Day Off</td>\n",
       "      <td>Female</td>\n",
       "      <td>Single</td>\n",
       "      <td>1.0</td>\n",
       "      <td>1.0</td>\n",
       "      <td>1.0</td>\n",
       "      <td>1.0</td>\n",
       "      <td>2.0</td>\n",
       "      <td>1.0</td>\n",
       "      <td>5</td>\n",
       "    </tr>\n",
       "    <tr>\n",
       "      <th>2</th>\n",
       "      <td>0</td>\n",
       "      <td>Ferris Buellers Day Off</td>\n",
       "      <td>Male</td>\n",
       "      <td>Married</td>\n",
       "      <td>2.0</td>\n",
       "      <td>4.0</td>\n",
       "      <td>3.0</td>\n",
       "      <td>2.0</td>\n",
       "      <td>4.0</td>\n",
       "      <td>1.0</td>\n",
       "      <td>5</td>\n",
       "    </tr>\n",
       "    <tr>\n",
       "      <th>3</th>\n",
       "      <td>0</td>\n",
       "      <td>Ferris Buellers Day Off</td>\n",
       "      <td>Female</td>\n",
       "      <td>Married</td>\n",
       "      <td>1.0</td>\n",
       "      <td>3.0</td>\n",
       "      <td>2.0</td>\n",
       "      <td>2.0</td>\n",
       "      <td>4.0</td>\n",
       "      <td>1.0</td>\n",
       "      <td>5</td>\n",
       "    </tr>\n",
       "    <tr>\n",
       "      <th>4</th>\n",
       "      <td>0</td>\n",
       "      <td>Ferris Buellers Day Off</td>\n",
       "      <td>Female</td>\n",
       "      <td>Married</td>\n",
       "      <td>1.0</td>\n",
       "      <td>1.0</td>\n",
       "      <td>1.0</td>\n",
       "      <td>1.0</td>\n",
       "      <td>3.0</td>\n",
       "      <td>3.0</td>\n",
       "      <td>1</td>\n",
       "    </tr>\n",
       "    <tr>\n",
       "      <th>...</th>\n",
       "      <td>...</td>\n",
       "      <td>...</td>\n",
       "      <td>...</td>\n",
       "      <td>...</td>\n",
       "      <td>...</td>\n",
       "      <td>...</td>\n",
       "      <td>...</td>\n",
       "      <td>...</td>\n",
       "      <td>...</td>\n",
       "      <td>...</td>\n",
       "      <td>...</td>\n",
       "    </tr>\n",
       "    <tr>\n",
       "      <th>325</th>\n",
       "      <td>0</td>\n",
       "      <td>Old School</td>\n",
       "      <td>2</td>\n",
       "      <td>2</td>\n",
       "      <td>1.0</td>\n",
       "      <td>2.0</td>\n",
       "      <td>1.0</td>\n",
       "      <td>1.0</td>\n",
       "      <td>2.0</td>\n",
       "      <td>1.0</td>\n",
       "      <td>1</td>\n",
       "    </tr>\n",
       "    <tr>\n",
       "      <th>326</th>\n",
       "      <td>0</td>\n",
       "      <td>Old School</td>\n",
       "      <td>1</td>\n",
       "      <td>1</td>\n",
       "      <td>2.0</td>\n",
       "      <td>2.0</td>\n",
       "      <td>2.0</td>\n",
       "      <td>2.0</td>\n",
       "      <td>3.0</td>\n",
       "      <td>3.0</td>\n",
       "      <td>5</td>\n",
       "    </tr>\n",
       "    <tr>\n",
       "      <th>327</th>\n",
       "      <td>0</td>\n",
       "      <td>Old School</td>\n",
       "      <td>2</td>\n",
       "      <td>1</td>\n",
       "      <td>2.0</td>\n",
       "      <td>1.0</td>\n",
       "      <td>1.0</td>\n",
       "      <td>2.0</td>\n",
       "      <td>2.0</td>\n",
       "      <td>2.0</td>\n",
       "      <td>5</td>\n",
       "    </tr>\n",
       "    <tr>\n",
       "      <th>328</th>\n",
       "      <td>0</td>\n",
       "      <td>Old School</td>\n",
       "      <td>1</td>\n",
       "      <td>1</td>\n",
       "      <td>1.0</td>\n",
       "      <td>1.0</td>\n",
       "      <td>1.0</td>\n",
       "      <td>1.0</td>\n",
       "      <td>2.0</td>\n",
       "      <td>1.0</td>\n",
       "      <td>3</td>\n",
       "    </tr>\n",
       "    <tr>\n",
       "      <th>329</th>\n",
       "      <td>0</td>\n",
       "      <td>Old School</td>\n",
       "      <td>2</td>\n",
       "      <td>2</td>\n",
       "      <td>2.0</td>\n",
       "      <td>2.0</td>\n",
       "      <td>3.0</td>\n",
       "      <td>1.0</td>\n",
       "      <td>2.0</td>\n",
       "      <td>1.0</td>\n",
       "      <td>5</td>\n",
       "    </tr>\n",
       "  </tbody>\n",
       "</table>\n",
       "<p>330 rows × 11 columns</p>\n",
       "</div>"
      ],
      "text/plain": [
       "     _rowstate_                    Movie  Gender Marital_Status  Sinage  \\\n",
       "0             0  Ferris Buellers Day Off  Female        Married     2.0   \n",
       "1             0  Ferris Buellers Day Off  Female         Single     1.0   \n",
       "2             0  Ferris Buellers Day Off    Male        Married     2.0   \n",
       "3             0  Ferris Buellers Day Off  Female        Married     1.0   \n",
       "4             0  Ferris Buellers Day Off  Female        Married     1.0   \n",
       "..          ...                      ...     ...            ...     ...   \n",
       "325           0               Old School       2              2     1.0   \n",
       "326           0               Old School       1              1     2.0   \n",
       "327           0               Old School       2              1     2.0   \n",
       "328           0               Old School       1              1     1.0   \n",
       "329           0               Old School       2              2     2.0   \n",
       "\n",
       "     Parking  Clean  Overall  Age  Income Hear_About  \n",
       "0        2.0    2.0      2.0  3.0     1.0          5  \n",
       "1        1.0    1.0      1.0  2.0     1.0          5  \n",
       "2        4.0    3.0      2.0  4.0     1.0          5  \n",
       "3        3.0    2.0      2.0  4.0     1.0          5  \n",
       "4        1.0    1.0      1.0  3.0     3.0          1  \n",
       "..       ...    ...      ...  ...     ...        ...  \n",
       "325      2.0    1.0      1.0  2.0     1.0          1  \n",
       "326      2.0    2.0      2.0  3.0     3.0          5  \n",
       "327      1.0    1.0      2.0  2.0     2.0          5  \n",
       "328      1.0    1.0      1.0  2.0     1.0          3  \n",
       "329      2.0    3.0      1.0  2.0     1.0          5  \n",
       "\n",
       "[330 rows x 11 columns]"
      ]
     },
     "execution_count": 99,
     "metadata": {},
     "output_type": "execute_result"
    }
   ],
   "source": [
    "Films"
   ]
  },
  {
   "cell_type": "code",
   "execution_count": 100,
   "id": "0d6f14ec-2c0f-444f-9b5c-a1fdf3525073",
   "metadata": {},
   "outputs": [
    {
     "name": "stdout",
     "output_type": "stream",
     "text": [
      "<class 'pandas.core.frame.DataFrame'>\n",
      "RangeIndex: 330 entries, 0 to 329\n",
      "Data columns (total 11 columns):\n",
      " #   Column          Non-Null Count  Dtype  \n",
      "---  ------          --------------  -----  \n",
      " 0   _rowstate_      330 non-null    int64  \n",
      " 1   Movie           330 non-null    object \n",
      " 2   Gender          330 non-null    object \n",
      " 3   Marital_Status  328 non-null    object \n",
      " 4   Sinage          328 non-null    float64\n",
      " 5   Parking         328 non-null    float64\n",
      " 6   Clean           327 non-null    float64\n",
      " 7   Overall         328 non-null    float64\n",
      " 8   Age             328 non-null    float64\n",
      " 9   Income          314 non-null    float64\n",
      " 10  Hear_About      323 non-null    object \n",
      "dtypes: float64(6), int64(1), object(4)\n",
      "memory usage: 28.5+ KB\n"
     ]
    }
   ],
   "source": [
    "Films.info()"
   ]
  },
  {
   "cell_type": "code",
   "execution_count": 101,
   "id": "509027df-d67d-48b4-abd3-8733f55007ea",
   "metadata": {},
   "outputs": [
    {
     "data": {
      "text/plain": [
       "_rowstate_         0\n",
       "Movie              0\n",
       "Gender             0\n",
       "Marital_Status     2\n",
       "Sinage             2\n",
       "Parking            2\n",
       "Clean              3\n",
       "Overall            2\n",
       "Age                2\n",
       "Income            16\n",
       "Hear_About         7\n",
       "dtype: int64"
      ]
     },
     "execution_count": 101,
     "metadata": {},
     "output_type": "execute_result"
    }
   ],
   "source": [
    "Films.isna().sum()"
   ]
  },
  {
   "cell_type": "code",
   "execution_count": 102,
   "id": "59aee410-02e8-4d55-b9d8-6afe7d1aa7ce",
   "metadata": {},
   "outputs": [],
   "source": [
    "## Missing Value treatment"
   ]
  },
  {
   "cell_type": "code",
   "execution_count": 103,
   "id": "2564b5d7-6855-41b7-918c-bdd624753a4e",
   "metadata": {},
   "outputs": [],
   "source": [
    "\n",
    "Films['Hear_About'] = Films['Hear_About'].fillna(Films['Hear_About'].mode()[0])\n",
    "Films['Sinage'] = Films['Sinage'].fillna(Films['Sinage'].mode()[0])\n",
    "Films['Parking'] = Films['Parking'].fillna(Films['Parking'].mode()[0])\n",
    "Films['Clean'] = Films['Clean'].fillna(Films['Clean'].mode()[0])\n",
    "Films['Overall'] = Films['Overall'].fillna(Films['Overall'].mode()[0])\n",
    "Films['Income'] = Films['Income'].fillna(Films['Income'].mean())\n",
    "Films['Age'] = Films['Age'].fillna(Films['Age'].mode()[0])"
   ]
  },
  {
   "cell_type": "code",
   "execution_count": 104,
   "id": "74846b5f-4dfb-4ba2-b179-714a8d30258a",
   "metadata": {},
   "outputs": [
    {
     "data": {
      "text/plain": [
       "_rowstate_        0\n",
       "Movie             0\n",
       "Gender            0\n",
       "Marital_Status    2\n",
       "Sinage            0\n",
       "Parking           0\n",
       "Clean             0\n",
       "Overall           0\n",
       "Age               0\n",
       "Income            0\n",
       "Hear_About        0\n",
       "dtype: int64"
      ]
     },
     "execution_count": 104,
     "metadata": {},
     "output_type": "execute_result"
    }
   ],
   "source": [
    "Films.isna().sum()"
   ]
  },
  {
   "cell_type": "code",
   "execution_count": 118,
   "id": "b1e368a0-0215-4874-9c61-f9a32b63e27e",
   "metadata": {},
   "outputs": [],
   "source": [
    "Films = Films.drop('_rowstate_', axis = 1)"
   ]
  },
  {
   "cell_type": "code",
   "execution_count": 106,
   "id": "2aec71ca-066e-4692-9e26-0b848900d92c",
   "metadata": {},
   "outputs": [
    {
     "data": {
      "text/plain": [
       "Movie\n",
       "Willy Wonka                161\n",
       "Ferris Buellers Day Off    137\n",
       "Old School                  32\n",
       "Name: count, dtype: int64"
      ]
     },
     "execution_count": 106,
     "metadata": {},
     "output_type": "execute_result"
    }
   ],
   "source": [
    "Films.Movie.value_counts()"
   ]
  },
  {
   "cell_type": "markdown",
   "id": "ecff181d-d6fa-44d5-b587-0a0778882dfb",
   "metadata": {},
   "source": [
    "## 1 What is the overall level of customer satisfaction?"
   ]
  },
  {
   "cell_type": "code",
   "execution_count": 114,
   "id": "272ce449-3446-4a96-9c56-473ea2df02f5",
   "metadata": {},
   "outputs": [
    {
     "name": "stdout",
     "output_type": "stream",
     "text": [
      "Mean Satisfaction: 1.621212121212121\n",
      "Median Satisfaction: 2.0\n"
     ]
    }
   ],
   "source": [
    "mean_satisfaction = Films['Overall'].mean()\n",
    "median_satisfaction =  Films['Overall'].median()\n",
    "print(f\"Mean Satisfaction: {mean_satisfaction}\")\n",
    "print(f\"Median Satisfaction: {median_satisfaction}\")\n",
    "\n"
   ]
  },
  {
   "cell_type": "code",
   "execution_count": 113,
   "id": "f5add6a6-c13b-4316-b898-6e5e1c963d30",
   "metadata": {},
   "outputs": [
    {
     "data": {
      "text/plain": [
       "2.0"
      ]
     },
     "execution_count": 113,
     "metadata": {},
     "output_type": "execute_result"
    }
   ],
   "source": [
    "Conclusion : Based on the result the customers satisfaction is between excellent and good"
   ]
  },
  {
   "cell_type": "markdown",
   "id": "8ecd686d-25c4-4dde-94d9-4b97fe8f03ae",
   "metadata": {},
   "source": [
    "## 2 What factors are linked to satisfaction?"
   ]
  },
  {
   "cell_type": "code",
   "execution_count": 155,
   "id": "47dbf196-23ec-45cf-84c3-c12e13f3fe63",
   "metadata": {},
   "outputs": [
    {
     "data": {
      "text/html": [
       "<div>\n",
       "<style scoped>\n",
       "    .dataframe tbody tr th:only-of-type {\n",
       "        vertical-align: middle;\n",
       "    }\n",
       "\n",
       "    .dataframe tbody tr th {\n",
       "        vertical-align: top;\n",
       "    }\n",
       "\n",
       "    .dataframe thead th {\n",
       "        text-align: right;\n",
       "    }\n",
       "</style>\n",
       "<table border=\"1\" class=\"dataframe\">\n",
       "  <thead>\n",
       "    <tr style=\"text-align: right;\">\n",
       "      <th></th>\n",
       "      <th>Sinage</th>\n",
       "      <th>Parking</th>\n",
       "      <th>Clean</th>\n",
       "      <th>Overall</th>\n",
       "      <th>Age</th>\n",
       "      <th>Income</th>\n",
       "    </tr>\n",
       "  </thead>\n",
       "  <tbody>\n",
       "    <tr>\n",
       "      <th>Sinage</th>\n",
       "      <td>1.000000</td>\n",
       "      <td>0.469180</td>\n",
       "      <td>0.349144</td>\n",
       "      <td>0.382103</td>\n",
       "      <td>-0.089461</td>\n",
       "      <td>-0.036968</td>\n",
       "    </tr>\n",
       "    <tr>\n",
       "      <th>Parking</th>\n",
       "      <td>0.469180</td>\n",
       "      <td>1.000000</td>\n",
       "      <td>0.440771</td>\n",
       "      <td>0.514429</td>\n",
       "      <td>-0.023468</td>\n",
       "      <td>-0.023575</td>\n",
       "    </tr>\n",
       "    <tr>\n",
       "      <th>Clean</th>\n",
       "      <td>0.349144</td>\n",
       "      <td>0.440771</td>\n",
       "      <td>1.000000</td>\n",
       "      <td>0.350822</td>\n",
       "      <td>-0.000114</td>\n",
       "      <td>0.016643</td>\n",
       "    </tr>\n",
       "    <tr>\n",
       "      <th>Overall</th>\n",
       "      <td>0.382103</td>\n",
       "      <td>0.514429</td>\n",
       "      <td>0.350822</td>\n",
       "      <td>1.000000</td>\n",
       "      <td>-0.032904</td>\n",
       "      <td>-0.005568</td>\n",
       "    </tr>\n",
       "    <tr>\n",
       "      <th>Age</th>\n",
       "      <td>-0.089461</td>\n",
       "      <td>-0.023468</td>\n",
       "      <td>-0.000114</td>\n",
       "      <td>-0.032904</td>\n",
       "      <td>1.000000</td>\n",
       "      <td>0.136119</td>\n",
       "    </tr>\n",
       "    <tr>\n",
       "      <th>Income</th>\n",
       "      <td>-0.036968</td>\n",
       "      <td>-0.023575</td>\n",
       "      <td>0.016643</td>\n",
       "      <td>-0.005568</td>\n",
       "      <td>0.136119</td>\n",
       "      <td>1.000000</td>\n",
       "    </tr>\n",
       "  </tbody>\n",
       "</table>\n",
       "</div>"
      ],
      "text/plain": [
       "           Sinage   Parking     Clean   Overall       Age    Income\n",
       "Sinage   1.000000  0.469180  0.349144  0.382103 -0.089461 -0.036968\n",
       "Parking  0.469180  1.000000  0.440771  0.514429 -0.023468 -0.023575\n",
       "Clean    0.349144  0.440771  1.000000  0.350822 -0.000114  0.016643\n",
       "Overall  0.382103  0.514429  0.350822  1.000000 -0.032904 -0.005568\n",
       "Age     -0.089461 -0.023468 -0.000114 -0.032904  1.000000  0.136119\n",
       "Income  -0.036968 -0.023575  0.016643 -0.005568  0.136119  1.000000"
      ]
     },
     "execution_count": 155,
     "metadata": {},
     "output_type": "execute_result"
    }
   ],
   "source": [
    "Correlation_matrix = Films.iloc[:,3:9].corr()\n",
    "Correlation_matrix"
   ]
  },
  {
   "cell_type": "code",
   "execution_count": 154,
   "id": "18efcb8b-09a7-4567-911e-f4f1bffc88e7",
   "metadata": {},
   "outputs": [
    {
     "data": {
      "text/plain": [
       "<Axes: >"
      ]
     },
     "execution_count": 154,
     "metadata": {},
     "output_type": "execute_result"
    },
    {
     "data": {
      "image/png": "[encoded data removed]",
      "text/plain": [
       "<Figure size 1000x800 with 2 Axes>"
      ]
     },
     "metadata": {},
     "output_type": "display_data"
    }
   ],
   "source": [
    "plt.figure(figsize = (10, 8))\n",
    "sns.heatmap(Films1.corr(), cmap= \"Blues\", annot = True)"
   ]
  },
  {
   "cell_type": "markdown",
   "id": "a09ba234-778d-4fb1-b7ff-5b1b60cc9eef",
   "metadata": {},
   "source": [
    "Conclusion =  From the result above we can say that parking is somewhat an important factor in overall satisfaction"
   ]
  },
  {
   "cell_type": "code",
   "execution_count": 157,
   "id": "63ee118f-b5f1-4651-84af-fadcfbacae93",
   "metadata": {},
   "outputs": [
    {
     "data": {
      "text/plain": [
       "array(['Female', 'Male', '2', '1'], dtype=object)"
      ]
     },
     "execution_count": 157,
     "metadata": {},
     "output_type": "execute_result"
    }
   ],
   "source": [
    "Films.Gender.unique()"
   ]
  },
  {
   "cell_type": "code",
   "execution_count": 159,
   "id": "a7749c9c-d181-43eb-8bcf-0d0f8e74d047",
   "metadata": {},
   "outputs": [],
   "source": [
    "Films['Gender'].replace({'Male': 1, 'Female': 2, '1': 1, '2': 2}, inplace=True)\n"
   ]
  },
  {
   "cell_type": "code",
   "execution_count": 160,
   "id": "8ffc2443-8edd-4964-afc4-f7a69da7afd7",
   "metadata": {},
   "outputs": [
    {
     "data": {
      "text/plain": [
       "array([2, 1], dtype=int64)"
      ]
     },
     "execution_count": 160,
     "metadata": {},
     "output_type": "execute_result"
    }
   ],
   "source": [
    "Films.Gender.unique()"
   ]
  },
  {
   "cell_type": "markdown",
   "id": "805cab27-72b8-430a-9590-f67d010cca5a",
   "metadata": {},
   "source": [
    "## Checking Realtionship between overall satifaction and all the variables"
   ]
  },
  {
   "cell_type": "markdown",
   "id": "8d470be3-5605-415f-a518-fba4ee3b0298",
   "metadata": {},
   "source": [
    "Hypothesis\n",
    "\n",
    "Null Hypothesis:There is no relationship between Age and Overall Satisfaction\n",
    "Alternative Hypothesis : There is a relationship between Age and Overall Satisfaction\n",
    "alpha = 0.05"
   ]
  },
  {
   "cell_type": "code",
   "execution_count": 162,
   "id": "b492b577-cb19-4567-9d3b-ae0ad1d7f0d4",
   "metadata": {},
   "outputs": [],
   "source": [
    "obs_freq0 = pd.crosstab( Films.Age, Films.Overall )"
   ]
  },
  {
   "cell_type": "code",
   "execution_count": 163,
   "id": "09aae10e-f397-43a6-a6ec-5296e3fd291b",
   "metadata": {},
   "outputs": [
    {
     "data": {
      "text/plain": [
       "Chi2ContingencyResult(statistic=10.45278328792503, pvalue=0.5763025800406916, dof=12, expected_freq=array([[1.18969697e+01, 1.27636364e+01, 9.45454545e-01, 7.87878788e-02,\n",
       "        3.15151515e-01],\n",
       "       [8.09909091e+01, 8.68909091e+01, 6.43636364e+00, 5.36363636e-01,\n",
       "        2.14545455e+00],\n",
       "       [5.35363636e+01, 5.74363636e+01, 4.25454545e+00, 3.54545455e-01,\n",
       "        1.41818182e+00],\n",
       "       [4.57575758e+00, 4.90909091e+00, 3.63636364e-01, 3.03030303e-02,\n",
       "        1.21212121e-01]]))"
      ]
     },
     "execution_count": 163,
     "metadata": {},
     "output_type": "execute_result"
    }
   ],
   "source": [
    "stats.chi2_contingency( obs_freq0 )"
   ]
  },
  {
   "cell_type": "code",
   "execution_count": 167,
   "id": "d758207b-443f-4e1d-a4ec-d2275c3877e6",
   "metadata": {},
   "outputs": [],
   "source": [
    "## Conclusion: Since p value is greater than alpha we do not reject the null hypothesis and hence there is a no relationship between age and overall satisfaction"
   ]
  },
  {
   "cell_type": "code",
   "execution_count": 169,
   "id": "93ab5920-5f55-4f2f-8928-a0370073abff",
   "metadata": {},
   "outputs": [],
   "source": [
    "obs_freq1 = pd.crosstab( Films.Gender, Films.Overall )"
   ]
  },
  {
   "cell_type": "code",
   "execution_count": 170,
   "id": "25aa2cdb-4889-48b2-af54-412fc4539452",
   "metadata": {},
   "outputs": [
    {
     "data": {
      "text/plain": [
       "Chi2ContingencyResult(statistic=4.325375175990271, pvalue=0.36375838131773974, dof=4, expected_freq=array([[ 53.53636364,  57.43636364,   4.25454545,   0.35454545,\n",
       "          1.41818182],\n",
       "       [ 97.46363636, 104.56363636,   7.74545455,   0.64545455,\n",
       "          2.58181818]]))"
      ]
     },
     "execution_count": 170,
     "metadata": {},
     "output_type": "execute_result"
    }
   ],
   "source": [
    "stats.chi2_contingency( obs_freq1 )"
   ]
  },
  {
   "cell_type": "code",
   "execution_count": 171,
   "id": "87e055b3-968d-437c-acd5-106d80747e4d",
   "metadata": {},
   "outputs": [],
   "source": [
    "obs_freq3 = pd.crosstab( Films.Income, Films.Overall )"
   ]
  },
  {
   "cell_type": "code",
   "execution_count": 172,
   "id": "56db0665-40e5-4d77-b370-bb0bea887ee9",
   "metadata": {},
   "outputs": [
    {
     "data": {
      "text/plain": [
       "Chi2ContingencyResult(statistic=9.987707990264004, pvalue=0.6170390767831415, dof=12, expected_freq=array([[6.49757576e+01, 6.97090909e+01, 5.16363636e+00, 4.30303030e-01,\n",
       "        1.72121212e+00],\n",
       "       [7.32121212e+00, 7.85454545e+00, 5.81818182e-01, 4.84848485e-02,\n",
       "        1.93939394e-01],\n",
       "       [3.75212121e+01, 4.02545455e+01, 2.98181818e+00, 2.48484848e-01,\n",
       "        9.93939394e-01],\n",
       "       [4.11818182e+01, 4.41818182e+01, 3.27272727e+00, 2.72727273e-01,\n",
       "        1.09090909e+00]]))"
      ]
     },
     "execution_count": 172,
     "metadata": {},
     "output_type": "execute_result"
    }
   ],
   "source": [
    "stats.chi2_contingency( obs_freq3)"
   ]
  },
  {
   "cell_type": "code",
   "execution_count": 175,
   "id": "86845a3f-8e37-4baa-8662-352f36f691b3",
   "metadata": {},
   "outputs": [],
   "source": [
    "obs_freq4 = pd.crosstab( Films.Clean, Films.Overall )"
   ]
  },
  {
   "cell_type": "code",
   "execution_count": 176,
   "id": "84bc36bf-55b3-4062-8d68-0baba58d1fea",
   "metadata": {},
   "outputs": [
    {
     "data": {
      "text/plain": [
       "Chi2ContingencyResult(statistic=127.71945555999517, pvalue=1.7772535915434025e-19, dof=16, expected_freq=array([[6.58909091e+01, 7.06909091e+01, 5.23636364e+00, 4.36363636e-01,\n",
       "        1.74545455e+00],\n",
       "       [7.09242424e+01, 7.60909091e+01, 5.63636364e+00, 4.69696970e-01,\n",
       "        1.87878788e+00],\n",
       "       [1.09818182e+01, 1.17818182e+01, 8.72727273e-01, 7.27272727e-02,\n",
       "        2.90909091e-01],\n",
       "       [2.28787879e+00, 2.45454545e+00, 1.81818182e-01, 1.51515152e-02,\n",
       "        6.06060606e-02],\n",
       "       [9.15151515e-01, 9.81818182e-01, 7.27272727e-02, 6.06060606e-03,\n",
       "        2.42424242e-02]]))"
      ]
     },
     "execution_count": 176,
     "metadata": {},
     "output_type": "execute_result"
    }
   ],
   "source": [
    "stats.chi2_contingency( obs_freq4)"
   ]
  },
  {
   "cell_type": "code",
   "execution_count": 177,
   "id": "2c2879d4-8a9b-4aee-83f3-891a0dc7fa7d",
   "metadata": {},
   "outputs": [],
   "source": [
    "obs_freq5 = pd.crosstab( Films.Sinage, Films.Overall )\n"
   ]
  },
  {
   "cell_type": "code",
   "execution_count": 178,
   "id": "80cd095d-8bd9-4fa9-8d2b-a44753d10f41",
   "metadata": {},
   "outputs": [
    {
     "data": {
      "text/plain": [
       "Chi2ContingencyResult(statistic=125.61859671027881, pvalue=4.53298970003405e-19, dof=16, expected_freq=array([[5.17060606e+01, 5.54727273e+01, 4.10909091e+00, 3.42424242e-01,\n",
       "        1.36969697e+00],\n",
       "       [7.22969697e+01, 7.75636364e+01, 5.74545455e+00, 4.78787879e-01,\n",
       "        1.91515152e+00],\n",
       "       [2.19636364e+01, 2.35636364e+01, 1.74545455e+00, 1.45454545e-01,\n",
       "        5.81818182e-01],\n",
       "       [2.74545455e+00, 2.94545455e+00, 2.18181818e-01, 1.81818182e-02,\n",
       "        7.27272727e-02],\n",
       "       [2.28787879e+00, 2.45454545e+00, 1.81818182e-01, 1.51515152e-02,\n",
       "        6.06060606e-02]]))"
      ]
     },
     "execution_count": 178,
     "metadata": {},
     "output_type": "execute_result"
    }
   ],
   "source": [
    "stats.chi2_contingency( obs_freq5)"
   ]
  },
  {
   "cell_type": "markdown",
   "id": "9a15188f-ce8b-4a31-b4f5-439d33de66f5",
   "metadata": {},
   "source": [
    "## Conclusion\n",
    "\n",
    "It can be concluded that the variables Sinage, Parking and cleanliness have contribute to Overall satifaction with Parking being the most important factor amongst them"
   ]
  },
  {
   "cell_type": "markdown",
   "id": "52313dff-9a72-43b6-9fc0-9c22d5f1f300",
   "metadata": {},
   "source": [
    "## 3) What is the demographic profile of Film on the Rocks patrons?"
   ]
  },
  {
   "cell_type": "code",
   "execution_count": 179,
   "id": "d00e2666-ad8e-42a2-9020-62075eeb7c99",
   "metadata": {},
   "outputs": [
    {
     "data": {
      "text/html": [
       "<div>\n",
       "<style scoped>\n",
       "    .dataframe tbody tr th:only-of-type {\n",
       "        vertical-align: middle;\n",
       "    }\n",
       "\n",
       "    .dataframe tbody tr th {\n",
       "        vertical-align: top;\n",
       "    }\n",
       "\n",
       "    .dataframe thead th {\n",
       "        text-align: right;\n",
       "    }\n",
       "</style>\n",
       "<table border=\"1\" class=\"dataframe\">\n",
       "  <thead>\n",
       "    <tr style=\"text-align: right;\">\n",
       "      <th>Gender</th>\n",
       "      <th>1</th>\n",
       "      <th>2</th>\n",
       "    </tr>\n",
       "    <tr>\n",
       "      <th>Movie</th>\n",
       "      <th></th>\n",
       "      <th></th>\n",
       "    </tr>\n",
       "  </thead>\n",
       "  <tbody>\n",
       "    <tr>\n",
       "      <th>Ferris Buellers Day Off</th>\n",
       "      <td>51</td>\n",
       "      <td>86</td>\n",
       "    </tr>\n",
       "    <tr>\n",
       "      <th>Old School</th>\n",
       "      <td>13</td>\n",
       "      <td>19</td>\n",
       "    </tr>\n",
       "    <tr>\n",
       "      <th>Willy Wonka</th>\n",
       "      <td>53</td>\n",
       "      <td>108</td>\n",
       "    </tr>\n",
       "  </tbody>\n",
       "</table>\n",
       "</div>"
      ],
      "text/plain": [
       "Gender                    1    2\n",
       "Movie                           \n",
       "Ferris Buellers Day Off  51   86\n",
       "Old School               13   19\n",
       "Willy Wonka              53  108"
      ]
     },
     "execution_count": 179,
     "metadata": {},
     "output_type": "execute_result"
    }
   ],
   "source": [
    "pd.crosstab( index = Films.Movie, columns = Films.Gender, values = Films.Gender, aggfunc = 'count') "
   ]
  },
  {
   "cell_type": "markdown",
   "id": "987099bf-6d87-41dd-871c-24699255b17a",
   "metadata": {},
   "source": [
    "## Conclusion : It is evident from the above table that male and female preference is towards Willy Wonka movie.\n"
   ]
  },
  {
   "cell_type": "code",
   "execution_count": 183,
   "id": "4657fb2f-ed4a-4f19-8acd-ee479ac32b00",
   "metadata": {},
   "outputs": [
    {
     "data": {
      "text/html": [
       "<div>\n",
       "<style scoped>\n",
       "    .dataframe tbody tr th:only-of-type {\n",
       "        vertical-align: middle;\n",
       "    }\n",
       "\n",
       "    .dataframe tbody tr th {\n",
       "        vertical-align: top;\n",
       "    }\n",
       "\n",
       "    .dataframe thead th {\n",
       "        text-align: right;\n",
       "    }\n",
       "</style>\n",
       "<table border=\"1\" class=\"dataframe\">\n",
       "  <thead>\n",
       "    <tr style=\"text-align: right;\">\n",
       "      <th>Age</th>\n",
       "      <th>1.0</th>\n",
       "      <th>2.0</th>\n",
       "      <th>3.0</th>\n",
       "      <th>4.0</th>\n",
       "      <th>All</th>\n",
       "    </tr>\n",
       "    <tr>\n",
       "      <th>Movie</th>\n",
       "      <th></th>\n",
       "      <th></th>\n",
       "      <th></th>\n",
       "      <th></th>\n",
       "      <th></th>\n",
       "    </tr>\n",
       "  </thead>\n",
       "  <tbody>\n",
       "    <tr>\n",
       "      <th>Ferris Buellers Day Off</th>\n",
       "      <td>12.0</td>\n",
       "      <td>70.0</td>\n",
       "      <td>48.0</td>\n",
       "      <td>7.0</td>\n",
       "      <td>137</td>\n",
       "    </tr>\n",
       "    <tr>\n",
       "      <th>Old School</th>\n",
       "      <td>2.0</td>\n",
       "      <td>20.0</td>\n",
       "      <td>10.0</td>\n",
       "      <td>NaN</td>\n",
       "      <td>32</td>\n",
       "    </tr>\n",
       "    <tr>\n",
       "      <th>Willy Wonka</th>\n",
       "      <td>12.0</td>\n",
       "      <td>87.0</td>\n",
       "      <td>59.0</td>\n",
       "      <td>3.0</td>\n",
       "      <td>161</td>\n",
       "    </tr>\n",
       "    <tr>\n",
       "      <th>All</th>\n",
       "      <td>26.0</td>\n",
       "      <td>177.0</td>\n",
       "      <td>117.0</td>\n",
       "      <td>10.0</td>\n",
       "      <td>330</td>\n",
       "    </tr>\n",
       "  </tbody>\n",
       "</table>\n",
       "</div>"
      ],
      "text/plain": [
       "Age                       1.0    2.0    3.0   4.0  All\n",
       "Movie                                                 \n",
       "Ferris Buellers Day Off  12.0   70.0   48.0   7.0  137\n",
       "Old School                2.0   20.0   10.0   NaN   32\n",
       "Willy Wonka              12.0   87.0   59.0   3.0  161\n",
       "All                      26.0  177.0  117.0  10.0  330"
      ]
     },
     "execution_count": 183,
     "metadata": {},
     "output_type": "execute_result"
    }
   ],
   "source": [
    "pd.crosstab( index = Films.Movie, columns = Films.Age, values = Films.Age, aggfunc = 'count', margins = True) "
   ]
  },
  {
   "cell_type": "markdown",
   "id": "34815ccc-43a9-42a2-b6dc-77ce9d5d3fe6",
   "metadata": {},
   "source": [
    "## Conclusion :\n",
    "1) It is evident that Age group 13-30 is most abundant in watching movies.\n",
    "2) Willy Wonka is most popular amongst all age groups.\n",
    "\n"
   ]
  },
  {
   "cell_type": "code",
   "execution_count": 186,
   "id": "e3b0fb27-1e25-4b17-82c1-403902a7689b",
   "metadata": {},
   "outputs": [
    {
     "data": {
      "text/plain": [
       "Marital_Status\n",
       "2          208\n",
       "1           88\n",
       "Single      18\n",
       "Married     12\n",
       "Slngle       2\n",
       "Name: count, dtype: int64"
      ]
     },
     "execution_count": 186,
     "metadata": {},
     "output_type": "execute_result"
    }
   ],
   "source": [
    "Films.Marital_Status.value_counts()"
   ]
  },
  {
   "cell_type": "code",
   "execution_count": 189,
   "id": "cee67959-e303-41d2-9faf-6d8ddf7635ad",
   "metadata": {},
   "outputs": [],
   "source": [
    "Films['Marital_Status'].replace({'Single': 2, 'Married': 1,  'Slngle' : 2, '1': 1 ,'2': 2}, inplace=True)"
   ]
  },
  {
   "cell_type": "code",
   "execution_count": 190,
   "id": "4ab24c72-88ce-43ce-875f-496ba0b6b24d",
   "metadata": {},
   "outputs": [
    {
     "data": {
      "text/plain": [
       "Marital_Status\n",
       "2.0    228\n",
       "1.0    100\n",
       "Name: count, dtype: int64"
      ]
     },
     "execution_count": 190,
     "metadata": {},
     "output_type": "execute_result"
    }
   ],
   "source": [
    "Films.Marital_Status.value_counts()"
   ]
  },
  {
   "cell_type": "code",
   "execution_count": 191,
   "id": "b2d3d380-1fce-4e70-af02-b9be4f3125ff",
   "metadata": {},
   "outputs": [
    {
     "data": {
      "text/html": [
       "<div>\n",
       "<style scoped>\n",
       "    .dataframe tbody tr th:only-of-type {\n",
       "        vertical-align: middle;\n",
       "    }\n",
       "\n",
       "    .dataframe tbody tr th {\n",
       "        vertical-align: top;\n",
       "    }\n",
       "\n",
       "    .dataframe thead th {\n",
       "        text-align: right;\n",
       "    }\n",
       "</style>\n",
       "<table border=\"1\" class=\"dataframe\">\n",
       "  <thead>\n",
       "    <tr style=\"text-align: right;\">\n",
       "      <th>Marital_Status</th>\n",
       "      <th>1.0</th>\n",
       "      <th>2.0</th>\n",
       "      <th>All</th>\n",
       "    </tr>\n",
       "    <tr>\n",
       "      <th>Movie</th>\n",
       "      <th></th>\n",
       "      <th></th>\n",
       "      <th></th>\n",
       "    </tr>\n",
       "  </thead>\n",
       "  <tbody>\n",
       "    <tr>\n",
       "      <th>Ferris Buellers Day Off</th>\n",
       "      <td>41</td>\n",
       "      <td>96</td>\n",
       "      <td>137</td>\n",
       "    </tr>\n",
       "    <tr>\n",
       "      <th>Old School</th>\n",
       "      <td>11</td>\n",
       "      <td>20</td>\n",
       "      <td>31</td>\n",
       "    </tr>\n",
       "    <tr>\n",
       "      <th>Willy Wonka</th>\n",
       "      <td>48</td>\n",
       "      <td>112</td>\n",
       "      <td>160</td>\n",
       "    </tr>\n",
       "    <tr>\n",
       "      <th>All</th>\n",
       "      <td>100</td>\n",
       "      <td>228</td>\n",
       "      <td>328</td>\n",
       "    </tr>\n",
       "  </tbody>\n",
       "</table>\n",
       "</div>"
      ],
      "text/plain": [
       "Marital_Status           1.0  2.0  All\n",
       "Movie                                 \n",
       "Ferris Buellers Day Off   41   96  137\n",
       "Old School                11   20   31\n",
       "Willy Wonka               48  112  160\n",
       "All                      100  228  328"
      ]
     },
     "execution_count": 191,
     "metadata": {},
     "output_type": "execute_result"
    }
   ],
   "source": [
    "pd.crosstab( index = Films.Movie, columns = Films.Marital_Status, values = Films.Marital_Status, aggfunc = 'count', margins = True) "
   ]
  },
  {
   "cell_type": "markdown",
   "id": "6c811648-504b-49e0-a843-f356d3213029",
   "metadata": {},
   "source": [
    "## Conclusion :\n",
    "It is evident that both the groups married or unmarried preferred Willy Wonka as their movie Choice\n",
    "\n",
    "Old School is the least preferred one"
   ]
  },
  {
   "cell_type": "code",
   "execution_count": 195,
   "id": "fd13e108-7ae3-4613-ad2c-645b6fe26339",
   "metadata": {},
   "outputs": [
    {
     "data": {
      "text/plain": [
       "Income\n",
       "1.000000    142\n",
       "3.000000     90\n",
       "2.000000     82\n",
       "1.834395     16\n",
       "Name: count, dtype: int64"
      ]
     },
     "execution_count": 195,
     "metadata": {},
     "output_type": "execute_result"
    }
   ],
   "source": [
    "Films.Income.value_counts()"
   ]
  },
  {
   "cell_type": "code",
   "execution_count": 200,
   "id": "058e0a90-992f-4bfc-86e9-4f771ddc8c71",
   "metadata": {},
   "outputs": [],
   "source": [
    "Films3 = Films[Films['Income'] != 1.8343949044585988]"
   ]
  },
  {
   "cell_type": "code",
   "execution_count": 201,
   "id": "3e73ea24-f344-4aba-a4e4-ae34416976e3",
   "metadata": {},
   "outputs": [
    {
     "data": {
      "text/plain": [
       "Income\n",
       "1.0    142\n",
       "3.0     90\n",
       "2.0     82\n",
       "Name: count, dtype: int64"
      ]
     },
     "execution_count": 201,
     "metadata": {},
     "output_type": "execute_result"
    }
   ],
   "source": [
    "Films3.Income.value_counts()"
   ]
  },
  {
   "cell_type": "code",
   "execution_count": 203,
   "id": "d5ed5fca-2bf3-4f62-a2dd-9195aa287d88",
   "metadata": {},
   "outputs": [
    {
     "data": {
      "text/html": [
       "<div>\n",
       "<style scoped>\n",
       "    .dataframe tbody tr th:only-of-type {\n",
       "        vertical-align: middle;\n",
       "    }\n",
       "\n",
       "    .dataframe tbody tr th {\n",
       "        vertical-align: top;\n",
       "    }\n",
       "\n",
       "    .dataframe thead th {\n",
       "        text-align: right;\n",
       "    }\n",
       "</style>\n",
       "<table border=\"1\" class=\"dataframe\">\n",
       "  <thead>\n",
       "    <tr style=\"text-align: right;\">\n",
       "      <th>Income</th>\n",
       "      <th>1.0</th>\n",
       "      <th>2.0</th>\n",
       "      <th>3.0</th>\n",
       "      <th>All</th>\n",
       "    </tr>\n",
       "    <tr>\n",
       "      <th>Movie</th>\n",
       "      <th></th>\n",
       "      <th></th>\n",
       "      <th></th>\n",
       "      <th></th>\n",
       "    </tr>\n",
       "  </thead>\n",
       "  <tbody>\n",
       "    <tr>\n",
       "      <th>Ferris Buellers Day Off</th>\n",
       "      <td>54</td>\n",
       "      <td>39</td>\n",
       "      <td>37</td>\n",
       "      <td>130</td>\n",
       "    </tr>\n",
       "    <tr>\n",
       "      <th>Old School</th>\n",
       "      <td>14</td>\n",
       "      <td>7</td>\n",
       "      <td>11</td>\n",
       "      <td>32</td>\n",
       "    </tr>\n",
       "    <tr>\n",
       "      <th>Willy Wonka</th>\n",
       "      <td>74</td>\n",
       "      <td>36</td>\n",
       "      <td>42</td>\n",
       "      <td>152</td>\n",
       "    </tr>\n",
       "    <tr>\n",
       "      <th>All</th>\n",
       "      <td>142</td>\n",
       "      <td>82</td>\n",
       "      <td>90</td>\n",
       "      <td>314</td>\n",
       "    </tr>\n",
       "  </tbody>\n",
       "</table>\n",
       "</div>"
      ],
      "text/plain": [
       "Income                   1.0  2.0  3.0  All\n",
       "Movie                                      \n",
       "Ferris Buellers Day Off   54   39   37  130\n",
       "Old School                14    7   11   32\n",
       "Willy Wonka               74   36   42  152\n",
       "All                      142   82   90  314"
      ]
     },
     "execution_count": 203,
     "metadata": {},
     "output_type": "execute_result"
    }
   ],
   "source": [
    "pd.crosstab( index = Films3.Movie, columns = Films3.Income, values = Films3.Income, aggfunc = 'count', margins = True) "
   ]
  },
  {
   "cell_type": "markdown",
   "id": "902cddf6-84f4-4d40-807e-4385e9d9b387",
   "metadata": {},
   "source": [
    "## Conclusion :\n",
    "1) It is evident that people with Income less that ($50,000) prefer Willy Wonka the most.\n",
    "2) It is evident that people with Income less between $ 50 -$100,000 prefer both Ferris Buellers Day Off and Willy Wonka\t\n",
    "3) It is evident that people with Income $100,000 and more prefer Willy Wonka the most.\n",
    "4) Old school is the lest preferred amongst all imncome groups."
   ]
  },
  {
   "cell_type": "markdown",
   "id": "8c863634-608f-48d1-9190-273b917ec2c8",
   "metadata": {},
   "source": [
    "## 4) In what media outlet(s) should the film series be advertised?"
   ]
  },
  {
   "cell_type": "code",
   "execution_count": 205,
   "id": "adfcef39-683b-4561-94b8-1c5d218e66bb",
   "metadata": {},
   "outputs": [
    {
     "data": {
      "text/html": [
       "<div>\n",
       "<style scoped>\n",
       "    .dataframe tbody tr th:only-of-type {\n",
       "        vertical-align: middle;\n",
       "    }\n",
       "\n",
       "    .dataframe tbody tr th {\n",
       "        vertical-align: top;\n",
       "    }\n",
       "\n",
       "    .dataframe thead th {\n",
       "        text-align: right;\n",
       "    }\n",
       "</style>\n",
       "<table border=\"1\" class=\"dataframe\">\n",
       "  <thead>\n",
       "    <tr style=\"text-align: right;\">\n",
       "      <th>Hear_About</th>\n",
       "      <th>1</th>\n",
       "      <th>1,5</th>\n",
       "      <th>2</th>\n",
       "      <th>2,5</th>\n",
       "      <th>3</th>\n",
       "      <th>3,4</th>\n",
       "      <th>3,5</th>\n",
       "      <th>4</th>\n",
       "      <th>4,5</th>\n",
       "      <th>5</th>\n",
       "      <th>5,4</th>\n",
       "      <th>All</th>\n",
       "    </tr>\n",
       "    <tr>\n",
       "      <th>Movie</th>\n",
       "      <th></th>\n",
       "      <th></th>\n",
       "      <th></th>\n",
       "      <th></th>\n",
       "      <th></th>\n",
       "      <th></th>\n",
       "      <th></th>\n",
       "      <th></th>\n",
       "      <th></th>\n",
       "      <th></th>\n",
       "      <th></th>\n",
       "      <th></th>\n",
       "    </tr>\n",
       "  </thead>\n",
       "  <tbody>\n",
       "    <tr>\n",
       "      <th>Ferris Buellers Day Off</th>\n",
       "      <td>13.0</td>\n",
       "      <td>1.0</td>\n",
       "      <td>4.0</td>\n",
       "      <td>1.0</td>\n",
       "      <td>4.0</td>\n",
       "      <td>NaN</td>\n",
       "      <td>NaN</td>\n",
       "      <td>15.0</td>\n",
       "      <td>1.0</td>\n",
       "      <td>91.0</td>\n",
       "      <td>NaN</td>\n",
       "      <td>130</td>\n",
       "    </tr>\n",
       "    <tr>\n",
       "      <th>Old School</th>\n",
       "      <td>1.0</td>\n",
       "      <td>NaN</td>\n",
       "      <td>4.0</td>\n",
       "      <td>NaN</td>\n",
       "      <td>1.0</td>\n",
       "      <td>1.0</td>\n",
       "      <td>NaN</td>\n",
       "      <td>1.0</td>\n",
       "      <td>NaN</td>\n",
       "      <td>24.0</td>\n",
       "      <td>NaN</td>\n",
       "      <td>32</td>\n",
       "    </tr>\n",
       "    <tr>\n",
       "      <th>Willy Wonka</th>\n",
       "      <td>5.0</td>\n",
       "      <td>NaN</td>\n",
       "      <td>3.0</td>\n",
       "      <td>1.0</td>\n",
       "      <td>9.0</td>\n",
       "      <td>1.0</td>\n",
       "      <td>1.0</td>\n",
       "      <td>23.0</td>\n",
       "      <td>NaN</td>\n",
       "      <td>108.0</td>\n",
       "      <td>1.0</td>\n",
       "      <td>152</td>\n",
       "    </tr>\n",
       "    <tr>\n",
       "      <th>All</th>\n",
       "      <td>19.0</td>\n",
       "      <td>1.0</td>\n",
       "      <td>11.0</td>\n",
       "      <td>2.0</td>\n",
       "      <td>14.0</td>\n",
       "      <td>2.0</td>\n",
       "      <td>1.0</td>\n",
       "      <td>39.0</td>\n",
       "      <td>1.0</td>\n",
       "      <td>223.0</td>\n",
       "      <td>1.0</td>\n",
       "      <td>314</td>\n",
       "    </tr>\n",
       "  </tbody>\n",
       "</table>\n",
       "</div>"
      ],
      "text/plain": [
       "Hear_About                  1  1,5     2  2,5     3  3,4  3,5     4  4,5  \\\n",
       "Movie                                                                      \n",
       "Ferris Buellers Day Off  13.0  1.0   4.0  1.0   4.0  NaN  NaN  15.0  1.0   \n",
       "Old School                1.0  NaN   4.0  NaN   1.0  1.0  NaN   1.0  NaN   \n",
       "Willy Wonka               5.0  NaN   3.0  1.0   9.0  1.0  1.0  23.0  NaN   \n",
       "All                      19.0  1.0  11.0  2.0  14.0  2.0  1.0  39.0  1.0   \n",
       "\n",
       "Hear_About                   5  5,4  All  \n",
       "Movie                                     \n",
       "Ferris Buellers Day Off   91.0  NaN  130  \n",
       "Old School                24.0  NaN   32  \n",
       "Willy Wonka              108.0  1.0  152  \n",
       "All                      223.0  1.0  314  "
      ]
     },
     "execution_count": 205,
     "metadata": {},
     "output_type": "execute_result"
    }
   ],
   "source": [
    "pd.crosstab( index = Films3.Movie, columns = Films3.Hear_About, values = Films3.Hear_About, aggfunc = 'count', margins = True) "
   ]
  },
  {
   "cell_type": "markdown",
   "id": "0ae5730b-250f-4b98-8823-bb1e003a21b2",
   "metadata": {},
   "source": [
    "## Conclusion\n",
    "1) Films series should be promoted mostly by word of mouth.\n",
    "\n"
   ]
  },
  {
   "cell_type": "code",
   "execution_count": null,
   "id": "919c7380-37bc-4f7d-bd59-e32f06cd637f",
   "metadata": {},
   "outputs": [],
   "source": []
  }
 ],
 "metadata": {
  "kernelspec": {
   "display_name": "Python 3 (ipykernel)",
   "language": "python",
   "name": "python3"
  },
  "language_info": {
   "codemirror_mode": {
    "name": "ipython",
    "version": 3
   },
   "file_extension": ".py",
   "mimetype": "text/x-python",
   "name": "python",
   "nbconvert_exporter": "python",
   "pygments_lexer": "ipython3",
   "version": "3.11.5"
  }
 },
 "nbformat": 4,
 "nbformat_minor": 5
}
